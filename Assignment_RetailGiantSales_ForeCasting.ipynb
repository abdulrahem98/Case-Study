{
  "nbformat": 4,
  "nbformat_minor": 0,
  "metadata": {
    "colab": {
      "provenance": []
    },
    "kernelspec": {
      "name": "python3",
      "display_name": "Python 3"
    },
    "language_info": {
      "name": "python"
    }
  },
  "cells": [
    {
      "cell_type": "code",
      "execution_count": 1,
      "metadata": {
        "id": "tRHmwruJi9L0"
      },
      "outputs": [],
      "source": [
        "import pandas as pd\n",
        "import numpy as np\n",
        "\n",
        "import matplotlib.pyplot as plt\n",
        "%matplotlib inline\n",
        "import seaborn as sns\n",
        "\n",
        "import warnings\n",
        "warnings.filterwarnings('ignore')\n",
        "\n",
        "from sklearn.metrics import mean_squared_error"
      ]
    },
    {
      "cell_type": "code",
      "source": [
        "data = pd.read_csv('Global+Superstore+Data.csv')\n",
        "data.head(12)"
      ],
      "metadata": {
        "colab": {
          "base_uri": "https://localhost:8080/",
          "height": 425
        },
        "id": "FZ57MRzqjvjf",
        "outputId": "c68b3b74-e8c3-4884-ac36-932e0a58f436"
      },
      "execution_count": 2,
      "outputs": [
        {
          "output_type": "execute_result",
          "data": {
            "text/plain": [
              "    Order Date      Segment  Market     Sales     Profit\n",
              "0   31-07-2012     Consumer      US  2309.650   762.1845\n",
              "1   05-02-2013    Corporate    APAC  3709.395  -288.7650\n",
              "2   17-10-2013     Consumer    APAC  5175.171   919.9710\n",
              "3   28-01-2013  Home Office      EU  2892.510   -96.5400\n",
              "4   05-11-2013     Consumer  Africa  2832.960   311.5200\n",
              "5   28-06-2013    Corporate    APAC  2862.675   763.2750\n",
              "6   07-11-2011     Consumer    APAC  1822.080   564.8400\n",
              "7   14-04-2012     Consumer    APAC  5244.840   996.4800\n",
              "8   14-10-2014    Corporate      US  5083.960  1906.4850\n",
              "9   28-01-2012     Consumer      US  4297.644 -1862.3124\n",
              "10  05-04-2011    Corporate      US  4164.050    83.2810\n",
              "11  19-04-2012    Corporate    APAC  4626.150   647.5500"
            ],
            "text/html": [
              "\n",
              "  <div id=\"df-6835c82d-0e89-4ed5-8a33-1686e785bac8\">\n",
              "    <div class=\"colab-df-container\">\n",
              "      <div>\n",
              "<style scoped>\n",
              "    .dataframe tbody tr th:only-of-type {\n",
              "        vertical-align: middle;\n",
              "    }\n",
              "\n",
              "    .dataframe tbody tr th {\n",
              "        vertical-align: top;\n",
              "    }\n",
              "\n",
              "    .dataframe thead th {\n",
              "        text-align: right;\n",
              "    }\n",
              "</style>\n",
              "<table border=\"1\" class=\"dataframe\">\n",
              "  <thead>\n",
              "    <tr style=\"text-align: right;\">\n",
              "      <th></th>\n",
              "      <th>Order Date</th>\n",
              "      <th>Segment</th>\n",
              "      <th>Market</th>\n",
              "      <th>Sales</th>\n",
              "      <th>Profit</th>\n",
              "    </tr>\n",
              "  </thead>\n",
              "  <tbody>\n",
              "    <tr>\n",
              "      <th>0</th>\n",
              "      <td>31-07-2012</td>\n",
              "      <td>Consumer</td>\n",
              "      <td>US</td>\n",
              "      <td>2309.650</td>\n",
              "      <td>762.1845</td>\n",
              "    </tr>\n",
              "    <tr>\n",
              "      <th>1</th>\n",
              "      <td>05-02-2013</td>\n",
              "      <td>Corporate</td>\n",
              "      <td>APAC</td>\n",
              "      <td>3709.395</td>\n",
              "      <td>-288.7650</td>\n",
              "    </tr>\n",
              "    <tr>\n",
              "      <th>2</th>\n",
              "      <td>17-10-2013</td>\n",
              "      <td>Consumer</td>\n",
              "      <td>APAC</td>\n",
              "      <td>5175.171</td>\n",
              "      <td>919.9710</td>\n",
              "    </tr>\n",
              "    <tr>\n",
              "      <th>3</th>\n",
              "      <td>28-01-2013</td>\n",
              "      <td>Home Office</td>\n",
              "      <td>EU</td>\n",
              "      <td>2892.510</td>\n",
              "      <td>-96.5400</td>\n",
              "    </tr>\n",
              "    <tr>\n",
              "      <th>4</th>\n",
              "      <td>05-11-2013</td>\n",
              "      <td>Consumer</td>\n",
              "      <td>Africa</td>\n",
              "      <td>2832.960</td>\n",
              "      <td>311.5200</td>\n",
              "    </tr>\n",
              "    <tr>\n",
              "      <th>5</th>\n",
              "      <td>28-06-2013</td>\n",
              "      <td>Corporate</td>\n",
              "      <td>APAC</td>\n",
              "      <td>2862.675</td>\n",
              "      <td>763.2750</td>\n",
              "    </tr>\n",
              "    <tr>\n",
              "      <th>6</th>\n",
              "      <td>07-11-2011</td>\n",
              "      <td>Consumer</td>\n",
              "      <td>APAC</td>\n",
              "      <td>1822.080</td>\n",
              "      <td>564.8400</td>\n",
              "    </tr>\n",
              "    <tr>\n",
              "      <th>7</th>\n",
              "      <td>14-04-2012</td>\n",
              "      <td>Consumer</td>\n",
              "      <td>APAC</td>\n",
              "      <td>5244.840</td>\n",
              "      <td>996.4800</td>\n",
              "    </tr>\n",
              "    <tr>\n",
              "      <th>8</th>\n",
              "      <td>14-10-2014</td>\n",
              "      <td>Corporate</td>\n",
              "      <td>US</td>\n",
              "      <td>5083.960</td>\n",
              "      <td>1906.4850</td>\n",
              "    </tr>\n",
              "    <tr>\n",
              "      <th>9</th>\n",
              "      <td>28-01-2012</td>\n",
              "      <td>Consumer</td>\n",
              "      <td>US</td>\n",
              "      <td>4297.644</td>\n",
              "      <td>-1862.3124</td>\n",
              "    </tr>\n",
              "    <tr>\n",
              "      <th>10</th>\n",
              "      <td>05-04-2011</td>\n",
              "      <td>Corporate</td>\n",
              "      <td>US</td>\n",
              "      <td>4164.050</td>\n",
              "      <td>83.2810</td>\n",
              "    </tr>\n",
              "    <tr>\n",
              "      <th>11</th>\n",
              "      <td>19-04-2012</td>\n",
              "      <td>Corporate</td>\n",
              "      <td>APAC</td>\n",
              "      <td>4626.150</td>\n",
              "      <td>647.5500</td>\n",
              "    </tr>\n",
              "  </tbody>\n",
              "</table>\n",
              "</div>\n",
              "      <button class=\"colab-df-convert\" onclick=\"convertToInteractive('df-6835c82d-0e89-4ed5-8a33-1686e785bac8')\"\n",
              "              title=\"Convert this dataframe to an interactive table.\"\n",
              "              style=\"display:none;\">\n",
              "        \n",
              "  <svg xmlns=\"http://www.w3.org/2000/svg\" height=\"24px\"viewBox=\"0 0 24 24\"\n",
              "       width=\"24px\">\n",
              "    <path d=\"M0 0h24v24H0V0z\" fill=\"none\"/>\n",
              "    <path d=\"M18.56 5.44l.94 2.06.94-2.06 2.06-.94-2.06-.94-.94-2.06-.94 2.06-2.06.94zm-11 1L8.5 8.5l.94-2.06 2.06-.94-2.06-.94L8.5 2.5l-.94 2.06-2.06.94zm10 10l.94 2.06.94-2.06 2.06-.94-2.06-.94-.94-2.06-.94 2.06-2.06.94z\"/><path d=\"M17.41 7.96l-1.37-1.37c-.4-.4-.92-.59-1.43-.59-.52 0-1.04.2-1.43.59L10.3 9.45l-7.72 7.72c-.78.78-.78 2.05 0 2.83L4 21.41c.39.39.9.59 1.41.59.51 0 1.02-.2 1.41-.59l7.78-7.78 2.81-2.81c.8-.78.8-2.07 0-2.86zM5.41 20L4 18.59l7.72-7.72 1.47 1.35L5.41 20z\"/>\n",
              "  </svg>\n",
              "      </button>\n",
              "      \n",
              "  <style>\n",
              "    .colab-df-container {\n",
              "      display:flex;\n",
              "      flex-wrap:wrap;\n",
              "      gap: 12px;\n",
              "    }\n",
              "\n",
              "    .colab-df-convert {\n",
              "      background-color: #E8F0FE;\n",
              "      border: none;\n",
              "      border-radius: 50%;\n",
              "      cursor: pointer;\n",
              "      display: none;\n",
              "      fill: #1967D2;\n",
              "      height: 32px;\n",
              "      padding: 0 0 0 0;\n",
              "      width: 32px;\n",
              "    }\n",
              "\n",
              "    .colab-df-convert:hover {\n",
              "      background-color: #E2EBFA;\n",
              "      box-shadow: 0px 1px 2px rgba(60, 64, 67, 0.3), 0px 1px 3px 1px rgba(60, 64, 67, 0.15);\n",
              "      fill: #174EA6;\n",
              "    }\n",
              "\n",
              "    [theme=dark] .colab-df-convert {\n",
              "      background-color: #3B4455;\n",
              "      fill: #D2E3FC;\n",
              "    }\n",
              "\n",
              "    [theme=dark] .colab-df-convert:hover {\n",
              "      background-color: #434B5C;\n",
              "      box-shadow: 0px 1px 3px 1px rgba(0, 0, 0, 0.15);\n",
              "      filter: drop-shadow(0px 1px 2px rgba(0, 0, 0, 0.3));\n",
              "      fill: #FFFFFF;\n",
              "    }\n",
              "  </style>\n",
              "\n",
              "      <script>\n",
              "        const buttonEl =\n",
              "          document.querySelector('#df-6835c82d-0e89-4ed5-8a33-1686e785bac8 button.colab-df-convert');\n",
              "        buttonEl.style.display =\n",
              "          google.colab.kernel.accessAllowed ? 'block' : 'none';\n",
              "\n",
              "        async function convertToInteractive(key) {\n",
              "          const element = document.querySelector('#df-6835c82d-0e89-4ed5-8a33-1686e785bac8');\n",
              "          const dataTable =\n",
              "            await google.colab.kernel.invokeFunction('convertToInteractive',\n",
              "                                                     [key], {});\n",
              "          if (!dataTable) return;\n",
              "\n",
              "          const docLinkHtml = 'Like what you see? Visit the ' +\n",
              "            '<a target=\"_blank\" href=https://colab.research.google.com/notebooks/data_table.ipynb>data table notebook</a>'\n",
              "            + ' to learn more about interactive tables.';\n",
              "          element.innerHTML = '';\n",
              "          dataTable['output_type'] = 'display_data';\n",
              "          await google.colab.output.renderOutput(dataTable, element);\n",
              "          const docLink = document.createElement('div');\n",
              "          docLink.innerHTML = docLinkHtml;\n",
              "          element.appendChild(docLink);\n",
              "        }\n",
              "      </script>\n",
              "    </div>\n",
              "  </div>\n",
              "  "
            ]
          },
          "metadata": {},
          "execution_count": 2
        }
      ]
    },
    {
      "cell_type": "code",
      "source": [
        "data.tail()"
      ],
      "metadata": {
        "colab": {
          "base_uri": "https://localhost:8080/",
          "height": 206
        },
        "id": "TSI7_H6yj5ds",
        "outputId": "ed12917c-c75b-405a-fc33-521b490db5a3"
      },
      "execution_count": 3,
      "outputs": [
        {
          "output_type": "execute_result",
          "data": {
            "text/plain": [
              "       Order Date      Segment Market   Sales   Profit\n",
              "51285  19-06-2014    Corporate   APAC  65.100   4.5000\n",
              "51286  20-06-2014     Consumer     US   0.444  -1.1100\n",
              "51287  02-12-2013  Home Office     US  22.920  11.2308\n",
              "51288  18-02-2012  Home Office  LATAM  13.440   2.4000\n",
              "51289  22-05-2012     Consumer  LATAM  61.380   1.8000"
            ],
            "text/html": [
              "\n",
              "  <div id=\"df-774e84d6-d331-4b51-a126-1f2fed70a625\">\n",
              "    <div class=\"colab-df-container\">\n",
              "      <div>\n",
              "<style scoped>\n",
              "    .dataframe tbody tr th:only-of-type {\n",
              "        vertical-align: middle;\n",
              "    }\n",
              "\n",
              "    .dataframe tbody tr th {\n",
              "        vertical-align: top;\n",
              "    }\n",
              "\n",
              "    .dataframe thead th {\n",
              "        text-align: right;\n",
              "    }\n",
              "</style>\n",
              "<table border=\"1\" class=\"dataframe\">\n",
              "  <thead>\n",
              "    <tr style=\"text-align: right;\">\n",
              "      <th></th>\n",
              "      <th>Order Date</th>\n",
              "      <th>Segment</th>\n",
              "      <th>Market</th>\n",
              "      <th>Sales</th>\n",
              "      <th>Profit</th>\n",
              "    </tr>\n",
              "  </thead>\n",
              "  <tbody>\n",
              "    <tr>\n",
              "      <th>51285</th>\n",
              "      <td>19-06-2014</td>\n",
              "      <td>Corporate</td>\n",
              "      <td>APAC</td>\n",
              "      <td>65.100</td>\n",
              "      <td>4.5000</td>\n",
              "    </tr>\n",
              "    <tr>\n",
              "      <th>51286</th>\n",
              "      <td>20-06-2014</td>\n",
              "      <td>Consumer</td>\n",
              "      <td>US</td>\n",
              "      <td>0.444</td>\n",
              "      <td>-1.1100</td>\n",
              "    </tr>\n",
              "    <tr>\n",
              "      <th>51287</th>\n",
              "      <td>02-12-2013</td>\n",
              "      <td>Home Office</td>\n",
              "      <td>US</td>\n",
              "      <td>22.920</td>\n",
              "      <td>11.2308</td>\n",
              "    </tr>\n",
              "    <tr>\n",
              "      <th>51288</th>\n",
              "      <td>18-02-2012</td>\n",
              "      <td>Home Office</td>\n",
              "      <td>LATAM</td>\n",
              "      <td>13.440</td>\n",
              "      <td>2.4000</td>\n",
              "    </tr>\n",
              "    <tr>\n",
              "      <th>51289</th>\n",
              "      <td>22-05-2012</td>\n",
              "      <td>Consumer</td>\n",
              "      <td>LATAM</td>\n",
              "      <td>61.380</td>\n",
              "      <td>1.8000</td>\n",
              "    </tr>\n",
              "  </tbody>\n",
              "</table>\n",
              "</div>\n",
              "      <button class=\"colab-df-convert\" onclick=\"convertToInteractive('df-774e84d6-d331-4b51-a126-1f2fed70a625')\"\n",
              "              title=\"Convert this dataframe to an interactive table.\"\n",
              "              style=\"display:none;\">\n",
              "        \n",
              "  <svg xmlns=\"http://www.w3.org/2000/svg\" height=\"24px\"viewBox=\"0 0 24 24\"\n",
              "       width=\"24px\">\n",
              "    <path d=\"M0 0h24v24H0V0z\" fill=\"none\"/>\n",
              "    <path d=\"M18.56 5.44l.94 2.06.94-2.06 2.06-.94-2.06-.94-.94-2.06-.94 2.06-2.06.94zm-11 1L8.5 8.5l.94-2.06 2.06-.94-2.06-.94L8.5 2.5l-.94 2.06-2.06.94zm10 10l.94 2.06.94-2.06 2.06-.94-2.06-.94-.94-2.06-.94 2.06-2.06.94z\"/><path d=\"M17.41 7.96l-1.37-1.37c-.4-.4-.92-.59-1.43-.59-.52 0-1.04.2-1.43.59L10.3 9.45l-7.72 7.72c-.78.78-.78 2.05 0 2.83L4 21.41c.39.39.9.59 1.41.59.51 0 1.02-.2 1.41-.59l7.78-7.78 2.81-2.81c.8-.78.8-2.07 0-2.86zM5.41 20L4 18.59l7.72-7.72 1.47 1.35L5.41 20z\"/>\n",
              "  </svg>\n",
              "      </button>\n",
              "      \n",
              "  <style>\n",
              "    .colab-df-container {\n",
              "      display:flex;\n",
              "      flex-wrap:wrap;\n",
              "      gap: 12px;\n",
              "    }\n",
              "\n",
              "    .colab-df-convert {\n",
              "      background-color: #E8F0FE;\n",
              "      border: none;\n",
              "      border-radius: 50%;\n",
              "      cursor: pointer;\n",
              "      display: none;\n",
              "      fill: #1967D2;\n",
              "      height: 32px;\n",
              "      padding: 0 0 0 0;\n",
              "      width: 32px;\n",
              "    }\n",
              "\n",
              "    .colab-df-convert:hover {\n",
              "      background-color: #E2EBFA;\n",
              "      box-shadow: 0px 1px 2px rgba(60, 64, 67, 0.3), 0px 1px 3px 1px rgba(60, 64, 67, 0.15);\n",
              "      fill: #174EA6;\n",
              "    }\n",
              "\n",
              "    [theme=dark] .colab-df-convert {\n",
              "      background-color: #3B4455;\n",
              "      fill: #D2E3FC;\n",
              "    }\n",
              "\n",
              "    [theme=dark] .colab-df-convert:hover {\n",
              "      background-color: #434B5C;\n",
              "      box-shadow: 0px 1px 3px 1px rgba(0, 0, 0, 0.15);\n",
              "      filter: drop-shadow(0px 1px 2px rgba(0, 0, 0, 0.3));\n",
              "      fill: #FFFFFF;\n",
              "    }\n",
              "  </style>\n",
              "\n",
              "      <script>\n",
              "        const buttonEl =\n",
              "          document.querySelector('#df-774e84d6-d331-4b51-a126-1f2fed70a625 button.colab-df-convert');\n",
              "        buttonEl.style.display =\n",
              "          google.colab.kernel.accessAllowed ? 'block' : 'none';\n",
              "\n",
              "        async function convertToInteractive(key) {\n",
              "          const element = document.querySelector('#df-774e84d6-d331-4b51-a126-1f2fed70a625');\n",
              "          const dataTable =\n",
              "            await google.colab.kernel.invokeFunction('convertToInteractive',\n",
              "                                                     [key], {});\n",
              "          if (!dataTable) return;\n",
              "\n",
              "          const docLinkHtml = 'Like what you see? Visit the ' +\n",
              "            '<a target=\"_blank\" href=https://colab.research.google.com/notebooks/data_table.ipynb>data table notebook</a>'\n",
              "            + ' to learn more about interactive tables.';\n",
              "          element.innerHTML = '';\n",
              "          dataTable['output_type'] = 'display_data';\n",
              "          await google.colab.output.renderOutput(dataTable, element);\n",
              "          const docLink = document.createElement('div');\n",
              "          docLink.innerHTML = docLinkHtml;\n",
              "          element.appendChild(docLink);\n",
              "        }\n",
              "      </script>\n",
              "    </div>\n",
              "  </div>\n",
              "  "
            ]
          },
          "metadata": {},
          "execution_count": 3
        }
      ]
    },
    {
      "cell_type": "code",
      "source": [
        "data.shape"
      ],
      "metadata": {
        "colab": {
          "base_uri": "https://localhost:8080/"
        },
        "id": "pRm2eLYej9ZX",
        "outputId": "ba51eddc-ca60-4391-b0ce-304fd0d86ad8"
      },
      "execution_count": 4,
      "outputs": [
        {
          "output_type": "execute_result",
          "data": {
            "text/plain": [
              "(51290, 5)"
            ]
          },
          "metadata": {},
          "execution_count": 4
        }
      ]
    },
    {
      "cell_type": "code",
      "source": [
        "data.info()"
      ],
      "metadata": {
        "colab": {
          "base_uri": "https://localhost:8080/"
        },
        "id": "1MabmPYOkSJP",
        "outputId": "9af85fb3-885c-4d24-817d-fadc7e763850"
      },
      "execution_count": 5,
      "outputs": [
        {
          "output_type": "stream",
          "name": "stdout",
          "text": [
            "<class 'pandas.core.frame.DataFrame'>\n",
            "RangeIndex: 51290 entries, 0 to 51289\n",
            "Data columns (total 5 columns):\n",
            " #   Column      Non-Null Count  Dtype  \n",
            "---  ------      --------------  -----  \n",
            " 0   Order Date  51290 non-null  object \n",
            " 1   Segment     51290 non-null  object \n",
            " 2   Market      51290 non-null  object \n",
            " 3   Sales       51290 non-null  float64\n",
            " 4   Profit      51290 non-null  float64\n",
            "dtypes: float64(2), object(3)\n",
            "memory usage: 2.0+ MB\n"
          ]
        }
      ]
    },
    {
      "cell_type": "code",
      "source": [
        "data.isnull().sum()"
      ],
      "metadata": {
        "colab": {
          "base_uri": "https://localhost:8080/"
        },
        "id": "KHsf--PTkaD6",
        "outputId": "63b338f4-d4c2-4f3a-9674-c0241c4ce086"
      },
      "execution_count": 6,
      "outputs": [
        {
          "output_type": "execute_result",
          "data": {
            "text/plain": [
              "Order Date    0\n",
              "Segment       0\n",
              "Market        0\n",
              "Sales         0\n",
              "Profit        0\n",
              "dtype: int64"
            ]
          },
          "metadata": {},
          "execution_count": 6
        }
      ]
    },
    {
      "cell_type": "code",
      "source": [
        "data.describe()"
      ],
      "metadata": {
        "colab": {
          "base_uri": "https://localhost:8080/",
          "height": 300
        },
        "id": "Vwmt0KZUkc-T",
        "outputId": "c1861e85-2e4e-4565-bd3a-583bd167759d"
      },
      "execution_count": 7,
      "outputs": [
        {
          "output_type": "execute_result",
          "data": {
            "text/plain": [
              "              Sales        Profit\n",
              "count  51290.000000  51290.000000\n",
              "mean     246.490581     28.610982\n",
              "std      487.565361    174.340972\n",
              "min        0.444000  -6599.978000\n",
              "25%       30.758625      0.000000\n",
              "50%       85.053000      9.240000\n",
              "75%      251.053200     36.810000\n",
              "max    22638.480000   8399.976000"
            ],
            "text/html": [
              "\n",
              "  <div id=\"df-5a4a647d-5192-4424-8e07-24df3d988716\">\n",
              "    <div class=\"colab-df-container\">\n",
              "      <div>\n",
              "<style scoped>\n",
              "    .dataframe tbody tr th:only-of-type {\n",
              "        vertical-align: middle;\n",
              "    }\n",
              "\n",
              "    .dataframe tbody tr th {\n",
              "        vertical-align: top;\n",
              "    }\n",
              "\n",
              "    .dataframe thead th {\n",
              "        text-align: right;\n",
              "    }\n",
              "</style>\n",
              "<table border=\"1\" class=\"dataframe\">\n",
              "  <thead>\n",
              "    <tr style=\"text-align: right;\">\n",
              "      <th></th>\n",
              "      <th>Sales</th>\n",
              "      <th>Profit</th>\n",
              "    </tr>\n",
              "  </thead>\n",
              "  <tbody>\n",
              "    <tr>\n",
              "      <th>count</th>\n",
              "      <td>51290.000000</td>\n",
              "      <td>51290.000000</td>\n",
              "    </tr>\n",
              "    <tr>\n",
              "      <th>mean</th>\n",
              "      <td>246.490581</td>\n",
              "      <td>28.610982</td>\n",
              "    </tr>\n",
              "    <tr>\n",
              "      <th>std</th>\n",
              "      <td>487.565361</td>\n",
              "      <td>174.340972</td>\n",
              "    </tr>\n",
              "    <tr>\n",
              "      <th>min</th>\n",
              "      <td>0.444000</td>\n",
              "      <td>-6599.978000</td>\n",
              "    </tr>\n",
              "    <tr>\n",
              "      <th>25%</th>\n",
              "      <td>30.758625</td>\n",
              "      <td>0.000000</td>\n",
              "    </tr>\n",
              "    <tr>\n",
              "      <th>50%</th>\n",
              "      <td>85.053000</td>\n",
              "      <td>9.240000</td>\n",
              "    </tr>\n",
              "    <tr>\n",
              "      <th>75%</th>\n",
              "      <td>251.053200</td>\n",
              "      <td>36.810000</td>\n",
              "    </tr>\n",
              "    <tr>\n",
              "      <th>max</th>\n",
              "      <td>22638.480000</td>\n",
              "      <td>8399.976000</td>\n",
              "    </tr>\n",
              "  </tbody>\n",
              "</table>\n",
              "</div>\n",
              "      <button class=\"colab-df-convert\" onclick=\"convertToInteractive('df-5a4a647d-5192-4424-8e07-24df3d988716')\"\n",
              "              title=\"Convert this dataframe to an interactive table.\"\n",
              "              style=\"display:none;\">\n",
              "        \n",
              "  <svg xmlns=\"http://www.w3.org/2000/svg\" height=\"24px\"viewBox=\"0 0 24 24\"\n",
              "       width=\"24px\">\n",
              "    <path d=\"M0 0h24v24H0V0z\" fill=\"none\"/>\n",
              "    <path d=\"M18.56 5.44l.94 2.06.94-2.06 2.06-.94-2.06-.94-.94-2.06-.94 2.06-2.06.94zm-11 1L8.5 8.5l.94-2.06 2.06-.94-2.06-.94L8.5 2.5l-.94 2.06-2.06.94zm10 10l.94 2.06.94-2.06 2.06-.94-2.06-.94-.94-2.06-.94 2.06-2.06.94z\"/><path d=\"M17.41 7.96l-1.37-1.37c-.4-.4-.92-.59-1.43-.59-.52 0-1.04.2-1.43.59L10.3 9.45l-7.72 7.72c-.78.78-.78 2.05 0 2.83L4 21.41c.39.39.9.59 1.41.59.51 0 1.02-.2 1.41-.59l7.78-7.78 2.81-2.81c.8-.78.8-2.07 0-2.86zM5.41 20L4 18.59l7.72-7.72 1.47 1.35L5.41 20z\"/>\n",
              "  </svg>\n",
              "      </button>\n",
              "      \n",
              "  <style>\n",
              "    .colab-df-container {\n",
              "      display:flex;\n",
              "      flex-wrap:wrap;\n",
              "      gap: 12px;\n",
              "    }\n",
              "\n",
              "    .colab-df-convert {\n",
              "      background-color: #E8F0FE;\n",
              "      border: none;\n",
              "      border-radius: 50%;\n",
              "      cursor: pointer;\n",
              "      display: none;\n",
              "      fill: #1967D2;\n",
              "      height: 32px;\n",
              "      padding: 0 0 0 0;\n",
              "      width: 32px;\n",
              "    }\n",
              "\n",
              "    .colab-df-convert:hover {\n",
              "      background-color: #E2EBFA;\n",
              "      box-shadow: 0px 1px 2px rgba(60, 64, 67, 0.3), 0px 1px 3px 1px rgba(60, 64, 67, 0.15);\n",
              "      fill: #174EA6;\n",
              "    }\n",
              "\n",
              "    [theme=dark] .colab-df-convert {\n",
              "      background-color: #3B4455;\n",
              "      fill: #D2E3FC;\n",
              "    }\n",
              "\n",
              "    [theme=dark] .colab-df-convert:hover {\n",
              "      background-color: #434B5C;\n",
              "      box-shadow: 0px 1px 3px 1px rgba(0, 0, 0, 0.15);\n",
              "      filter: drop-shadow(0px 1px 2px rgba(0, 0, 0, 0.3));\n",
              "      fill: #FFFFFF;\n",
              "    }\n",
              "  </style>\n",
              "\n",
              "      <script>\n",
              "        const buttonEl =\n",
              "          document.querySelector('#df-5a4a647d-5192-4424-8e07-24df3d988716 button.colab-df-convert');\n",
              "        buttonEl.style.display =\n",
              "          google.colab.kernel.accessAllowed ? 'block' : 'none';\n",
              "\n",
              "        async function convertToInteractive(key) {\n",
              "          const element = document.querySelector('#df-5a4a647d-5192-4424-8e07-24df3d988716');\n",
              "          const dataTable =\n",
              "            await google.colab.kernel.invokeFunction('convertToInteractive',\n",
              "                                                     [key], {});\n",
              "          if (!dataTable) return;\n",
              "\n",
              "          const docLinkHtml = 'Like what you see? Visit the ' +\n",
              "            '<a target=\"_blank\" href=https://colab.research.google.com/notebooks/data_table.ipynb>data table notebook</a>'\n",
              "            + ' to learn more about interactive tables.';\n",
              "          element.innerHTML = '';\n",
              "          dataTable['output_type'] = 'display_data';\n",
              "          await google.colab.output.renderOutput(dataTable, element);\n",
              "          const docLink = document.createElement('div');\n",
              "          docLink.innerHTML = docLinkHtml;\n",
              "          element.appendChild(docLink);\n",
              "        }\n",
              "      </script>\n",
              "    </div>\n",
              "  </div>\n",
              "  "
            ]
          },
          "metadata": {},
          "execution_count": 7
        }
      ]
    },
    {
      "cell_type": "markdown",
      "source": [
        "##DATA PREPRATION"
      ],
      "metadata": {
        "id": "39lUecZPlVPE"
      }
    },
    {
      "cell_type": "code",
      "source": [
        "data['Market_Segment'] = data['Market']+'_'+data['Segment']\n",
        "data.head()"
      ],
      "metadata": {
        "colab": {
          "base_uri": "https://localhost:8080/",
          "height": 206
        },
        "id": "QnrQEdCDkf-O",
        "outputId": "0b727c19-17c1-45e7-d1fe-9665fbf53294"
      },
      "execution_count": 8,
      "outputs": [
        {
          "output_type": "execute_result",
          "data": {
            "text/plain": [
              "   Order Date      Segment  Market     Sales    Profit   Market_Segment\n",
              "0  31-07-2012     Consumer      US  2309.650  762.1845      US_Consumer\n",
              "1  05-02-2013    Corporate    APAC  3709.395 -288.7650   APAC_Corporate\n",
              "2  17-10-2013     Consumer    APAC  5175.171  919.9710    APAC_Consumer\n",
              "3  28-01-2013  Home Office      EU  2892.510  -96.5400   EU_Home Office\n",
              "4  05-11-2013     Consumer  Africa  2832.960  311.5200  Africa_Consumer"
            ],
            "text/html": [
              "\n",
              "  <div id=\"df-32f8c72a-e693-4c51-b79e-a4ed32259d5e\">\n",
              "    <div class=\"colab-df-container\">\n",
              "      <div>\n",
              "<style scoped>\n",
              "    .dataframe tbody tr th:only-of-type {\n",
              "        vertical-align: middle;\n",
              "    }\n",
              "\n",
              "    .dataframe tbody tr th {\n",
              "        vertical-align: top;\n",
              "    }\n",
              "\n",
              "    .dataframe thead th {\n",
              "        text-align: right;\n",
              "    }\n",
              "</style>\n",
              "<table border=\"1\" class=\"dataframe\">\n",
              "  <thead>\n",
              "    <tr style=\"text-align: right;\">\n",
              "      <th></th>\n",
              "      <th>Order Date</th>\n",
              "      <th>Segment</th>\n",
              "      <th>Market</th>\n",
              "      <th>Sales</th>\n",
              "      <th>Profit</th>\n",
              "      <th>Market_Segment</th>\n",
              "    </tr>\n",
              "  </thead>\n",
              "  <tbody>\n",
              "    <tr>\n",
              "      <th>0</th>\n",
              "      <td>31-07-2012</td>\n",
              "      <td>Consumer</td>\n",
              "      <td>US</td>\n",
              "      <td>2309.650</td>\n",
              "      <td>762.1845</td>\n",
              "      <td>US_Consumer</td>\n",
              "    </tr>\n",
              "    <tr>\n",
              "      <th>1</th>\n",
              "      <td>05-02-2013</td>\n",
              "      <td>Corporate</td>\n",
              "      <td>APAC</td>\n",
              "      <td>3709.395</td>\n",
              "      <td>-288.7650</td>\n",
              "      <td>APAC_Corporate</td>\n",
              "    </tr>\n",
              "    <tr>\n",
              "      <th>2</th>\n",
              "      <td>17-10-2013</td>\n",
              "      <td>Consumer</td>\n",
              "      <td>APAC</td>\n",
              "      <td>5175.171</td>\n",
              "      <td>919.9710</td>\n",
              "      <td>APAC_Consumer</td>\n",
              "    </tr>\n",
              "    <tr>\n",
              "      <th>3</th>\n",
              "      <td>28-01-2013</td>\n",
              "      <td>Home Office</td>\n",
              "      <td>EU</td>\n",
              "      <td>2892.510</td>\n",
              "      <td>-96.5400</td>\n",
              "      <td>EU_Home Office</td>\n",
              "    </tr>\n",
              "    <tr>\n",
              "      <th>4</th>\n",
              "      <td>05-11-2013</td>\n",
              "      <td>Consumer</td>\n",
              "      <td>Africa</td>\n",
              "      <td>2832.960</td>\n",
              "      <td>311.5200</td>\n",
              "      <td>Africa_Consumer</td>\n",
              "    </tr>\n",
              "  </tbody>\n",
              "</table>\n",
              "</div>\n",
              "      <button class=\"colab-df-convert\" onclick=\"convertToInteractive('df-32f8c72a-e693-4c51-b79e-a4ed32259d5e')\"\n",
              "              title=\"Convert this dataframe to an interactive table.\"\n",
              "              style=\"display:none;\">\n",
              "        \n",
              "  <svg xmlns=\"http://www.w3.org/2000/svg\" height=\"24px\"viewBox=\"0 0 24 24\"\n",
              "       width=\"24px\">\n",
              "    <path d=\"M0 0h24v24H0V0z\" fill=\"none\"/>\n",
              "    <path d=\"M18.56 5.44l.94 2.06.94-2.06 2.06-.94-2.06-.94-.94-2.06-.94 2.06-2.06.94zm-11 1L8.5 8.5l.94-2.06 2.06-.94-2.06-.94L8.5 2.5l-.94 2.06-2.06.94zm10 10l.94 2.06.94-2.06 2.06-.94-2.06-.94-.94-2.06-.94 2.06-2.06.94z\"/><path d=\"M17.41 7.96l-1.37-1.37c-.4-.4-.92-.59-1.43-.59-.52 0-1.04.2-1.43.59L10.3 9.45l-7.72 7.72c-.78.78-.78 2.05 0 2.83L4 21.41c.39.39.9.59 1.41.59.51 0 1.02-.2 1.41-.59l7.78-7.78 2.81-2.81c.8-.78.8-2.07 0-2.86zM5.41 20L4 18.59l7.72-7.72 1.47 1.35L5.41 20z\"/>\n",
              "  </svg>\n",
              "      </button>\n",
              "      \n",
              "  <style>\n",
              "    .colab-df-container {\n",
              "      display:flex;\n",
              "      flex-wrap:wrap;\n",
              "      gap: 12px;\n",
              "    }\n",
              "\n",
              "    .colab-df-convert {\n",
              "      background-color: #E8F0FE;\n",
              "      border: none;\n",
              "      border-radius: 50%;\n",
              "      cursor: pointer;\n",
              "      display: none;\n",
              "      fill: #1967D2;\n",
              "      height: 32px;\n",
              "      padding: 0 0 0 0;\n",
              "      width: 32px;\n",
              "    }\n",
              "\n",
              "    .colab-df-convert:hover {\n",
              "      background-color: #E2EBFA;\n",
              "      box-shadow: 0px 1px 2px rgba(60, 64, 67, 0.3), 0px 1px 3px 1px rgba(60, 64, 67, 0.15);\n",
              "      fill: #174EA6;\n",
              "    }\n",
              "\n",
              "    [theme=dark] .colab-df-convert {\n",
              "      background-color: #3B4455;\n",
              "      fill: #D2E3FC;\n",
              "    }\n",
              "\n",
              "    [theme=dark] .colab-df-convert:hover {\n",
              "      background-color: #434B5C;\n",
              "      box-shadow: 0px 1px 3px 1px rgba(0, 0, 0, 0.15);\n",
              "      filter: drop-shadow(0px 1px 2px rgba(0, 0, 0, 0.3));\n",
              "      fill: #FFFFFF;\n",
              "    }\n",
              "  </style>\n",
              "\n",
              "      <script>\n",
              "        const buttonEl =\n",
              "          document.querySelector('#df-32f8c72a-e693-4c51-b79e-a4ed32259d5e button.colab-df-convert');\n",
              "        buttonEl.style.display =\n",
              "          google.colab.kernel.accessAllowed ? 'block' : 'none';\n",
              "\n",
              "        async function convertToInteractive(key) {\n",
              "          const element = document.querySelector('#df-32f8c72a-e693-4c51-b79e-a4ed32259d5e');\n",
              "          const dataTable =\n",
              "            await google.colab.kernel.invokeFunction('convertToInteractive',\n",
              "                                                     [key], {});\n",
              "          if (!dataTable) return;\n",
              "\n",
              "          const docLinkHtml = 'Like what you see? Visit the ' +\n",
              "            '<a target=\"_blank\" href=https://colab.research.google.com/notebooks/data_table.ipynb>data table notebook</a>'\n",
              "            + ' to learn more about interactive tables.';\n",
              "          element.innerHTML = '';\n",
              "          dataTable['output_type'] = 'display_data';\n",
              "          await google.colab.output.renderOutput(dataTable, element);\n",
              "          const docLink = document.createElement('div');\n",
              "          docLink.innerHTML = docLinkHtml;\n",
              "          element.appendChild(docLink);\n",
              "        }\n",
              "      </script>\n",
              "    </div>\n",
              "  </div>\n",
              "  "
            ]
          },
          "metadata": {},
          "execution_count": 8
        }
      ]
    },
    {
      "cell_type": "code",
      "source": [
        "data.nunique().sort_values()"
      ],
      "metadata": {
        "colab": {
          "base_uri": "https://localhost:8080/"
        },
        "id": "nDsCN3b-lljR",
        "outputId": "5eedc0f7-e70c-407b-da81-710542cb3d8c"
      },
      "execution_count": 9,
      "outputs": [
        {
          "output_type": "execute_result",
          "data": {
            "text/plain": [
              "Segment               3\n",
              "Market                7\n",
              "Market_Segment       21\n",
              "Order Date         1430\n",
              "Sales             22995\n",
              "Profit            24575\n",
              "dtype: int64"
            ]
          },
          "metadata": {},
          "execution_count": 9
        }
      ]
    },
    {
      "cell_type": "markdown",
      "source": [
        "#### store caters to 7 diff. geographical market segments and 3 major customer segments\n",
        "\n",
        "#### 21 unique Market_segments"
      ],
      "metadata": {
        "id": "uBzNEgBIl9FL"
      }
    },
    {
      "cell_type": "code",
      "source": [
        "plt.figure(figsize=(12,4))\n",
        "print(data.Market.value_counts())\n",
        "sns.countplot(data['Market'], palette='rocket')\n",
        "plt.title('7 Geographical Market Segments', fontweight='bold', size=10)\n",
        "plt.show()"
      ],
      "metadata": {
        "colab": {
          "base_uri": "https://localhost:8080/",
          "height": 435
        },
        "id": "KAgQIzc_lwA7",
        "outputId": "518b37c1-b4f7-4858-d60a-74e34c9c664c"
      },
      "execution_count": 10,
      "outputs": [
        {
          "output_type": "stream",
          "name": "stdout",
          "text": [
            "APAC      11002\n",
            "LATAM     10294\n",
            "EU        10000\n",
            "US         9994\n",
            "EMEA       5029\n",
            "Africa     4587\n",
            "Canada      384\n",
            "Name: Market, dtype: int64\n"
          ]
        },
        {
          "output_type": "display_data",
          "data": {
            "text/plain": [
              "<Figure size 864x288 with 1 Axes>"
            ],
            "image/png": "[encoded data removed]"
          },
          "metadata": {
            "needs_background": "light"
          }
        }
      ]
    },
    {
      "cell_type": "code",
      "source": [
        "plt.figure(figsize=(12,4))\n",
        "print(data.Segment.value_counts())\n",
        "sns.countplot(data['Segment'], palette='husl')\n",
        "plt.title('3 Major Customer Segments', fontweight='bold', size=10)\n",
        "plt.show()"
      ],
      "metadata": {
        "colab": {
          "base_uri": "https://localhost:8080/",
          "height": 364
        },
        "id": "uoIfBQ9rlwC3",
        "outputId": "3cdf7962-a937-481a-bb26-f0a97eab80fe"
      },
      "execution_count": 11,
      "outputs": [
        {
          "output_type": "stream",
          "name": "stdout",
          "text": [
            "Consumer       26518\n",
            "Corporate      15429\n",
            "Home Office     9343\n",
            "Name: Segment, dtype: int64\n"
          ]
        },
        {
          "output_type": "display_data",
          "data": {
            "text/plain": [
              "<Figure size 864x288 with 1 Axes>"
            ],
            "image/png": "[encoded data removed]"
          },
          "metadata": {
            "needs_background": "light"
          }
        }
      ]
    },
    {
      "cell_type": "code",
      "source": [
        "plt.figure(figsize=(15,5))\n",
        "print(data.Market_Segment.value_counts())\n",
        "sns.countplot(data['Market_Segment'], palette='ocean')\n",
        "plt.title('21 Unique Market-Segments', fontweight='bold', size=10)\n",
        "plt.xticks(rotation=90, fontweight='bold')\n",
        "plt.show()"
      ],
      "metadata": {
        "colab": {
          "base_uri": "https://localhost:8080/",
          "height": 768
        },
        "id": "uu5NpjKQlwFS",
        "outputId": "5490a148-1770-465d-fab0-edb755ed9122"
      },
      "execution_count": 12,
      "outputs": [
        {
          "output_type": "stream",
          "name": "stdout",
          "text": [
            "APAC_Consumer         5699\n",
            "LATAM_Consumer        5321\n",
            "US_Consumer           5191\n",
            "EU_Consumer           5186\n",
            "APAC_Corporate        3283\n",
            "EU_Corporate          3077\n",
            "LATAM_Corporate       3053\n",
            "US_Corporate          3020\n",
            "EMEA_Consumer         2538\n",
            "Africa_Consumer       2381\n",
            "APAC_Home Office      2020\n",
            "LATAM_Home Office     1920\n",
            "US_Home Office        1783\n",
            "EU_Home Office        1737\n",
            "EMEA_Corporate        1574\n",
            "Africa_Corporate      1312\n",
            "EMEA_Home Office       917\n",
            "Africa_Home Office     894\n",
            "Canada_Consumer        202\n",
            "Canada_Corporate       110\n",
            "Canada_Home Office      72\n",
            "Name: Market_Segment, dtype: int64\n"
          ]
        },
        {
          "output_type": "display_data",
          "data": {
            "text/plain": [
              "<Figure size 1080x360 with 1 Axes>"
            ],
            "image/png": "[encoded data removed]"
          },
          "metadata": {
            "needs_background": "light"
          }
        }
      ]
    },
    {
      "cell_type": "markdown",
      "source": [
        "###APAC_Consumer has highest count\n",
        "\n",
        "\n",
        "\n",
        "\n",
        "## Market-Segments vs profit"
      ],
      "metadata": {
        "id": "fO-bBX7Oq5mh"
      }
    },
    {
      "cell_type": "code",
      "source": [
        "plt.figure(figsize=(15,5))\n",
        "sns.barplot(x='Market', y='Profit', hue='Segment', data=data, palette='Paired')\n",
        "plt.title('Market Vs Profit', fontweight='bold')\n",
        "plt.xticks(rotation=90, fontweight='bold')\n",
        "plt.show()"
      ],
      "metadata": {
        "colab": {
          "base_uri": "https://localhost:8080/",
          "height": 323
        },
        "id": "R42aw8kvlwHh",
        "outputId": "2f9d4e18-c7eb-4a9a-bd8b-7986be1df2c5"
      },
      "execution_count": 13,
      "outputs": [
        {
          "output_type": "display_data",
          "data": {
            "text/plain": [
              "<Figure size 1080x360 with 1 Axes>"
            ],
            "image/png": "[encoded data removed]"
          },
          "metadata": {
            "needs_background": "light"
          }
        }
      ]
    },
    {
      "cell_type": "markdown",
      "source": [
        "#### We can see that Canada and APAC markets with the segments Consumer, Corporate and Home office have more profit\n",
        "#### Africa and EMEA markets have less profit"
      ],
      "metadata": {
        "id": "puwZqOBysp6v"
      }
    },
    {
      "cell_type": "markdown",
      "source": [
        "####MARKET_SEG VS SALES"
      ],
      "metadata": {
        "id": "gdv0tjgnsuG6"
      }
    },
    {
      "cell_type": "code",
      "source": [
        "plt.figure(figsize=(15,5))\n",
        "sns.barplot(x='Market', y='Sales', hue='Segment', data=data, palette='husl')\n",
        "plt.title('MARKET VS SALES', fontweight='bold')\n",
        "plt.xticks(rotation=90, fontweight='bold')\n",
        "plt.show()"
      ],
      "metadata": {
        "colab": {
          "base_uri": "https://localhost:8080/",
          "height": 321
        },
        "id": "-X8b6qaYlwJq",
        "outputId": "d086a91e-4dea-4ebc-cf01-b0ce81a0ebe0"
      },
      "execution_count": 14,
      "outputs": [
        {
          "output_type": "display_data",
          "data": {
            "text/plain": [
              "<Figure size 1080x360 with 1 Axes>"
            ],
            "image/png": "[encoded data removed]"
          },
          "metadata": {
            "needs_background": "light"
          }
        }
      ]
    },
    {
      "cell_type": "markdown",
      "source": [
        "\n",
        "    ### APAC marketis having higher Sales in     ###all the three segments\n",
        "    #### EMEA and Africa have less sales "
      ],
      "metadata": {
        "id": "XNOuBinpuCYY"
      }
    },
    {
      "cell_type": "markdown",
      "source": [
        "###DROPPING Maket and segment\n"
      ],
      "metadata": {
        "id": "QMsqx4CTuZI8"
      }
    },
    {
      "cell_type": "code",
      "source": [
        "data = data.drop(['Market','Segment'], axis=1)\n",
        "data.head()"
      ],
      "metadata": {
        "colab": {
          "base_uri": "https://localhost:8080/",
          "height": 206
        },
        "id": "cwAoGDkClwL7",
        "outputId": "94fb3c00-3ff1-4d9a-b7ab-762aa6884a02"
      },
      "execution_count": 15,
      "outputs": [
        {
          "output_type": "execute_result",
          "data": {
            "text/plain": [
              "   Order Date     Sales    Profit   Market_Segment\n",
              "0  31-07-2012  2309.650  762.1845      US_Consumer\n",
              "1  05-02-2013  3709.395 -288.7650   APAC_Corporate\n",
              "2  17-10-2013  5175.171  919.9710    APAC_Consumer\n",
              "3  28-01-2013  2892.510  -96.5400   EU_Home Office\n",
              "4  05-11-2013  2832.960  311.5200  Africa_Consumer"
            ],
            "text/html": [
              "\n",
              "  <div id=\"df-37a27088-54f7-4163-9f41-3b770c7d5408\">\n",
              "    <div class=\"colab-df-container\">\n",
              "      <div>\n",
              "<style scoped>\n",
              "    .dataframe tbody tr th:only-of-type {\n",
              "        vertical-align: middle;\n",
              "    }\n",
              "\n",
              "    .dataframe tbody tr th {\n",
              "        vertical-align: top;\n",
              "    }\n",
              "\n",
              "    .dataframe thead th {\n",
              "        text-align: right;\n",
              "    }\n",
              "</style>\n",
              "<table border=\"1\" class=\"dataframe\">\n",
              "  <thead>\n",
              "    <tr style=\"text-align: right;\">\n",
              "      <th></th>\n",
              "      <th>Order Date</th>\n",
              "      <th>Sales</th>\n",
              "      <th>Profit</th>\n",
              "      <th>Market_Segment</th>\n",
              "    </tr>\n",
              "  </thead>\n",
              "  <tbody>\n",
              "    <tr>\n",
              "      <th>0</th>\n",
              "      <td>31-07-2012</td>\n",
              "      <td>2309.650</td>\n",
              "      <td>762.1845</td>\n",
              "      <td>US_Consumer</td>\n",
              "    </tr>\n",
              "    <tr>\n",
              "      <th>1</th>\n",
              "      <td>05-02-2013</td>\n",
              "      <td>3709.395</td>\n",
              "      <td>-288.7650</td>\n",
              "      <td>APAC_Corporate</td>\n",
              "    </tr>\n",
              "    <tr>\n",
              "      <th>2</th>\n",
              "      <td>17-10-2013</td>\n",
              "      <td>5175.171</td>\n",
              "      <td>919.9710</td>\n",
              "      <td>APAC_Consumer</td>\n",
              "    </tr>\n",
              "    <tr>\n",
              "      <th>3</th>\n",
              "      <td>28-01-2013</td>\n",
              "      <td>2892.510</td>\n",
              "      <td>-96.5400</td>\n",
              "      <td>EU_Home Office</td>\n",
              "    </tr>\n",
              "    <tr>\n",
              "      <th>4</th>\n",
              "      <td>05-11-2013</td>\n",
              "      <td>2832.960</td>\n",
              "      <td>311.5200</td>\n",
              "      <td>Africa_Consumer</td>\n",
              "    </tr>\n",
              "  </tbody>\n",
              "</table>\n",
              "</div>\n",
              "      <button class=\"colab-df-convert\" onclick=\"convertToInteractive('df-37a27088-54f7-4163-9f41-3b770c7d5408')\"\n",
              "              title=\"Convert this dataframe to an interactive table.\"\n",
              "              style=\"display:none;\">\n",
              "        \n",
              "  <svg xmlns=\"http://www.w3.org/2000/svg\" height=\"24px\"viewBox=\"0 0 24 24\"\n",
              "       width=\"24px\">\n",
              "    <path d=\"M0 0h24v24H0V0z\" fill=\"none\"/>\n",
              "    <path d=\"M18.56 5.44l.94 2.06.94-2.06 2.06-.94-2.06-.94-.94-2.06-.94 2.06-2.06.94zm-11 1L8.5 8.5l.94-2.06 2.06-.94-2.06-.94L8.5 2.5l-.94 2.06-2.06.94zm10 10l.94 2.06.94-2.06 2.06-.94-2.06-.94-.94-2.06-.94 2.06-2.06.94z\"/><path d=\"M17.41 7.96l-1.37-1.37c-.4-.4-.92-.59-1.43-.59-.52 0-1.04.2-1.43.59L10.3 9.45l-7.72 7.72c-.78.78-.78 2.05 0 2.83L4 21.41c.39.39.9.59 1.41.59.51 0 1.02-.2 1.41-.59l7.78-7.78 2.81-2.81c.8-.78.8-2.07 0-2.86zM5.41 20L4 18.59l7.72-7.72 1.47 1.35L5.41 20z\"/>\n",
              "  </svg>\n",
              "      </button>\n",
              "      \n",
              "  <style>\n",
              "    .colab-df-container {\n",
              "      display:flex;\n",
              "      flex-wrap:wrap;\n",
              "      gap: 12px;\n",
              "    }\n",
              "\n",
              "    .colab-df-convert {\n",
              "      background-color: #E8F0FE;\n",
              "      border: none;\n",
              "      border-radius: 50%;\n",
              "      cursor: pointer;\n",
              "      display: none;\n",
              "      fill: #1967D2;\n",
              "      height: 32px;\n",
              "      padding: 0 0 0 0;\n",
              "      width: 32px;\n",
              "    }\n",
              "\n",
              "    .colab-df-convert:hover {\n",
              "      background-color: #E2EBFA;\n",
              "      box-shadow: 0px 1px 2px rgba(60, 64, 67, 0.3), 0px 1px 3px 1px rgba(60, 64, 67, 0.15);\n",
              "      fill: #174EA6;\n",
              "    }\n",
              "\n",
              "    [theme=dark] .colab-df-convert {\n",
              "      background-color: #3B4455;\n",
              "      fill: #D2E3FC;\n",
              "    }\n",
              "\n",
              "    [theme=dark] .colab-df-convert:hover {\n",
              "      background-color: #434B5C;\n",
              "      box-shadow: 0px 1px 3px 1px rgba(0, 0, 0, 0.15);\n",
              "      filter: drop-shadow(0px 1px 2px rgba(0, 0, 0, 0.3));\n",
              "      fill: #FFFFFF;\n",
              "    }\n",
              "  </style>\n",
              "\n",
              "      <script>\n",
              "        const buttonEl =\n",
              "          document.querySelector('#df-37a27088-54f7-4163-9f41-3b770c7d5408 button.colab-df-convert');\n",
              "        buttonEl.style.display =\n",
              "          google.colab.kernel.accessAllowed ? 'block' : 'none';\n",
              "\n",
              "        async function convertToInteractive(key) {\n",
              "          const element = document.querySelector('#df-37a27088-54f7-4163-9f41-3b770c7d5408');\n",
              "          const dataTable =\n",
              "            await google.colab.kernel.invokeFunction('convertToInteractive',\n",
              "                                                     [key], {});\n",
              "          if (!dataTable) return;\n",
              "\n",
              "          const docLinkHtml = 'Like what you see? Visit the ' +\n",
              "            '<a target=\"_blank\" href=https://colab.research.google.com/notebooks/data_table.ipynb>data table notebook</a>'\n",
              "            + ' to learn more about interactive tables.';\n",
              "          element.innerHTML = '';\n",
              "          dataTable['output_type'] = 'display_data';\n",
              "          await google.colab.output.renderOutput(dataTable, element);\n",
              "          const docLink = document.createElement('div');\n",
              "          docLink.innerHTML = docLinkHtml;\n",
              "          element.appendChild(docLink);\n",
              "        }\n",
              "      </script>\n",
              "    </div>\n",
              "  </div>\n",
              "  "
            ]
          },
          "metadata": {},
          "execution_count": 15
        }
      ]
    },
    {
      "cell_type": "code",
      "source": [
        "data['Order Date'] = pd.to_datetime(data['Order Date']).dt.to_period('m')\n",
        "data = data.sort_values(by=['Order Date'])\n",
        "data.head()"
      ],
      "metadata": {
        "colab": {
          "base_uri": "https://localhost:8080/",
          "height": 206
        },
        "id": "L1dVUxp8lwPg",
        "outputId": "0e1ddaba-91f8-4349-bdef-12d7157a651a"
      },
      "execution_count": 16,
      "outputs": [
        {
          "output_type": "execute_result",
          "data": {
            "text/plain": [
              "      Order Date   Sales  Profit  Market_Segment\n",
              "15262    2011-01  139.65   15.30    EU_Corporate\n",
              "26744    2011-01   88.44   15.84     EU_Consumer\n",
              "48614    2011-01   11.43    4.11    EU_Corporate\n",
              "9417     2011-01  491.00  122.70  LATAM_Consumer\n",
              "48590    2011-01    4.71    0.00  US_Home Office"
            ],
            "text/html": [
              "\n",
              "  <div id=\"df-8f5ee75d-b4fd-4539-8a23-dfe1b2fe3833\">\n",
              "    <div class=\"colab-df-container\">\n",
              "      <div>\n",
              "<style scoped>\n",
              "    .dataframe tbody tr th:only-of-type {\n",
              "        vertical-align: middle;\n",
              "    }\n",
              "\n",
              "    .dataframe tbody tr th {\n",
              "        vertical-align: top;\n",
              "    }\n",
              "\n",
              "    .dataframe thead th {\n",
              "        text-align: right;\n",
              "    }\n",
              "</style>\n",
              "<table border=\"1\" class=\"dataframe\">\n",
              "  <thead>\n",
              "    <tr style=\"text-align: right;\">\n",
              "      <th></th>\n",
              "      <th>Order Date</th>\n",
              "      <th>Sales</th>\n",
              "      <th>Profit</th>\n",
              "      <th>Market_Segment</th>\n",
              "    </tr>\n",
              "  </thead>\n",
              "  <tbody>\n",
              "    <tr>\n",
              "      <th>15262</th>\n",
              "      <td>2011-01</td>\n",
              "      <td>139.65</td>\n",
              "      <td>15.30</td>\n",
              "      <td>EU_Corporate</td>\n",
              "    </tr>\n",
              "    <tr>\n",
              "      <th>26744</th>\n",
              "      <td>2011-01</td>\n",
              "      <td>88.44</td>\n",
              "      <td>15.84</td>\n",
              "      <td>EU_Consumer</td>\n",
              "    </tr>\n",
              "    <tr>\n",
              "      <th>48614</th>\n",
              "      <td>2011-01</td>\n",
              "      <td>11.43</td>\n",
              "      <td>4.11</td>\n",
              "      <td>EU_Corporate</td>\n",
              "    </tr>\n",
              "    <tr>\n",
              "      <th>9417</th>\n",
              "      <td>2011-01</td>\n",
              "      <td>491.00</td>\n",
              "      <td>122.70</td>\n",
              "      <td>LATAM_Consumer</td>\n",
              "    </tr>\n",
              "    <tr>\n",
              "      <th>48590</th>\n",
              "      <td>2011-01</td>\n",
              "      <td>4.71</td>\n",
              "      <td>0.00</td>\n",
              "      <td>US_Home Office</td>\n",
              "    </tr>\n",
              "  </tbody>\n",
              "</table>\n",
              "</div>\n",
              "      <button class=\"colab-df-convert\" onclick=\"convertToInteractive('df-8f5ee75d-b4fd-4539-8a23-dfe1b2fe3833')\"\n",
              "              title=\"Convert this dataframe to an interactive table.\"\n",
              "              style=\"display:none;\">\n",
              "        \n",
              "  <svg xmlns=\"http://www.w3.org/2000/svg\" height=\"24px\"viewBox=\"0 0 24 24\"\n",
              "       width=\"24px\">\n",
              "    <path d=\"M0 0h24v24H0V0z\" fill=\"none\"/>\n",
              "    <path d=\"M18.56 5.44l.94 2.06.94-2.06 2.06-.94-2.06-.94-.94-2.06-.94 2.06-2.06.94zm-11 1L8.5 8.5l.94-2.06 2.06-.94-2.06-.94L8.5 2.5l-.94 2.06-2.06.94zm10 10l.94 2.06.94-2.06 2.06-.94-2.06-.94-.94-2.06-.94 2.06-2.06.94z\"/><path d=\"M17.41 7.96l-1.37-1.37c-.4-.4-.92-.59-1.43-.59-.52 0-1.04.2-1.43.59L10.3 9.45l-7.72 7.72c-.78.78-.78 2.05 0 2.83L4 21.41c.39.39.9.59 1.41.59.51 0 1.02-.2 1.41-.59l7.78-7.78 2.81-2.81c.8-.78.8-2.07 0-2.86zM5.41 20L4 18.59l7.72-7.72 1.47 1.35L5.41 20z\"/>\n",
              "  </svg>\n",
              "      </button>\n",
              "      \n",
              "  <style>\n",
              "    .colab-df-container {\n",
              "      display:flex;\n",
              "      flex-wrap:wrap;\n",
              "      gap: 12px;\n",
              "    }\n",
              "\n",
              "    .colab-df-convert {\n",
              "      background-color: #E8F0FE;\n",
              "      border: none;\n",
              "      border-radius: 50%;\n",
              "      cursor: pointer;\n",
              "      display: none;\n",
              "      fill: #1967D2;\n",
              "      height: 32px;\n",
              "      padding: 0 0 0 0;\n",
              "      width: 32px;\n",
              "    }\n",
              "\n",
              "    .colab-df-convert:hover {\n",
              "      background-color: #E2EBFA;\n",
              "      box-shadow: 0px 1px 2px rgba(60, 64, 67, 0.3), 0px 1px 3px 1px rgba(60, 64, 67, 0.15);\n",
              "      fill: #174EA6;\n",
              "    }\n",
              "\n",
              "    [theme=dark] .colab-df-convert {\n",
              "      background-color: #3B4455;\n",
              "      fill: #D2E3FC;\n",
              "    }\n",
              "\n",
              "    [theme=dark] .colab-df-convert:hover {\n",
              "      background-color: #434B5C;\n",
              "      box-shadow: 0px 1px 3px 1px rgba(0, 0, 0, 0.15);\n",
              "      filter: drop-shadow(0px 1px 2px rgba(0, 0, 0, 0.3));\n",
              "      fill: #FFFFFF;\n",
              "    }\n",
              "  </style>\n",
              "\n",
              "      <script>\n",
              "        const buttonEl =\n",
              "          document.querySelector('#df-8f5ee75d-b4fd-4539-8a23-dfe1b2fe3833 button.colab-df-convert');\n",
              "        buttonEl.style.display =\n",
              "          google.colab.kernel.accessAllowed ? 'block' : 'none';\n",
              "\n",
              "        async function convertToInteractive(key) {\n",
              "          const element = document.querySelector('#df-8f5ee75d-b4fd-4539-8a23-dfe1b2fe3833');\n",
              "          const dataTable =\n",
              "            await google.colab.kernel.invokeFunction('convertToInteractive',\n",
              "                                                     [key], {});\n",
              "          if (!dataTable) return;\n",
              "\n",
              "          const docLinkHtml = 'Like what you see? Visit the ' +\n",
              "            '<a target=\"_blank\" href=https://colab.research.google.com/notebooks/data_table.ipynb>data table notebook</a>'\n",
              "            + ' to learn more about interactive tables.';\n",
              "          element.innerHTML = '';\n",
              "          dataTable['output_type'] = 'display_data';\n",
              "          await google.colab.output.renderOutput(dataTable, element);\n",
              "          const docLink = document.createElement('div');\n",
              "          docLink.innerHTML = docLinkHtml;\n",
              "          element.appendChild(docLink);\n",
              "        }\n",
              "      </script>\n",
              "    </div>\n",
              "  </div>\n",
              "  "
            ]
          },
          "metadata": {},
          "execution_count": 16
        }
      ]
    },
    {
      "cell_type": "code",
      "source": [
        "data.info()"
      ],
      "metadata": {
        "colab": {
          "base_uri": "https://localhost:8080/"
        },
        "id": "qaDtQLyJuWxb",
        "outputId": "f4173102-48e4-437e-a3a3-c1fa78f0f307"
      },
      "execution_count": 17,
      "outputs": [
        {
          "output_type": "stream",
          "name": "stdout",
          "text": [
            "<class 'pandas.core.frame.DataFrame'>\n",
            "Int64Index: 51290 entries, 15262 to 541\n",
            "Data columns (total 4 columns):\n",
            " #   Column          Non-Null Count  Dtype    \n",
            "---  ------          --------------  -----    \n",
            " 0   Order Date      51290 non-null  period[M]\n",
            " 1   Sales           51290 non-null  float64  \n",
            " 2   Profit          51290 non-null  float64  \n",
            " 3   Market_Segment  51290 non-null  object   \n",
            "dtypes: float64(2), object(1), period[M](1)\n",
            "memory usage: 2.0+ MB\n"
          ]
        }
      ]
    },
    {
      "cell_type": "code",
      "source": [
        "data_profit = data.pivot_table(index='Order Date', values='Profit', columns= 'Market_Segment', aggfunc='sum')\n",
        "data_profit.head()"
      ],
      "metadata": {
        "colab": {
          "base_uri": "https://localhost:8080/",
          "height": 348
        },
        "id": "-I6DfNaAuWzj",
        "outputId": "51ed8a9a-1a24-4c59-ff08-1ce14ab91da1"
      },
      "execution_count": 19,
      "outputs": [
        {
          "output_type": "execute_result",
          "data": {
            "text/plain": [
              "Market_Segment  APAC_Consumer  APAC_Corporate  APAC_Home Office  \\\n",
              "Order Date                                                        \n",
              "2011-01             2254.4898       -173.7264          230.2656   \n",
              "2011-02             4627.8531       3600.7776          617.5407   \n",
              "2011-03             2337.8319       3634.9365          205.1052   \n",
              "2011-04              633.6423         90.7521          603.8478   \n",
              "2011-05             3838.9500       1028.4489          102.0315   \n",
              "\n",
              "Market_Segment  Africa_Consumer  Africa_Corporate  Africa_Home Office  \\\n",
              "Order Date                                                              \n",
              "2011-01                 265.539           520.026             391.515   \n",
              "2011-02                -201.888           -31.689             825.606   \n",
              "2011-03                 919.074           244.437              83.430   \n",
              "2011-04                 381.315           941.751             417.618   \n",
              "2011-05                 -39.981           490.650              39.180   \n",
              "\n",
              "Market_Segment  Canada_Consumer  Canada_Corporate  Canada_Home Office  \\\n",
              "Order Date                                                              \n",
              "2011-01                  447.33             12.57                 NaN   \n",
              "2011-02                   26.43              9.24               87.99   \n",
              "2011-03                   82.47               NaN               84.03   \n",
              "2011-04                   55.08              6.51                 NaN   \n",
              "2011-05                    0.87               NaN                 NaN   \n",
              "\n",
              "Market_Segment  EMEA_Consumer  ...  EMEA_Home Office  EU_Consumer  \\\n",
              "Order Date                     ...                                  \n",
              "2011-01             -2952.594  ...           392.526    2259.8670   \n",
              "2011-02               464.160  ...           368.070    -783.9945   \n",
              "2011-03               706.380  ...           -15.570    1273.7100   \n",
              "2011-04               121.353  ...          -456.510    2980.0065   \n",
              "2011-05               172.554  ...           -33.591     673.0080   \n",
              "\n",
              "Market_Segment  EU_Corporate  EU_Home Office  LATAM_Consumer  LATAM_Corporate  \\\n",
              "Order Date                                                                      \n",
              "2011-01             841.3875        2534.568       540.44312       1021.05924   \n",
              "2011-02            2234.4060         162.255      1227.86616        814.03020   \n",
              "2011-03            2206.5960         269.745      2427.39612        178.66400   \n",
              "2011-04             981.1470         130.371      1368.82948        872.64068   \n",
              "2011-05            1719.0600         443.310      1749.39200        134.87252   \n",
              "\n",
              "Market_Segment  LATAM_Home Office  US_Consumer  US_Corporate  US_Home Office  \n",
              "Order Date                                                                    \n",
              "2011-01                 -26.59744    2465.8368      643.3689       1233.9329  \n",
              "2011-02                -356.80440    1853.5541      421.9256        553.9467  \n",
              "2011-03                 769.88400     204.2007      127.4696       -268.9314  \n",
              "2011-04                -554.22952    1434.8636      494.7315       2723.4358  \n",
              "2011-05                -397.95600     833.9433     2912.7976        145.7781  \n",
              "\n",
              "[5 rows x 21 columns]"
            ],
            "text/html": [
              "\n",
              "  <div id=\"df-0dc417c5-1906-4419-a75c-9e64e616f932\">\n",
              "    <div class=\"colab-df-container\">\n",
              "      <div>\n",
              "<style scoped>\n",
              "    .dataframe tbody tr th:only-of-type {\n",
              "        vertical-align: middle;\n",
              "    }\n",
              "\n",
              "    .dataframe tbody tr th {\n",
              "        vertical-align: top;\n",
              "    }\n",
              "\n",
              "    .dataframe thead th {\n",
              "        text-align: right;\n",
              "    }\n",
              "</style>\n",
              "<table border=\"1\" class=\"dataframe\">\n",
              "  <thead>\n",
              "    <tr style=\"text-align: right;\">\n",
              "      <th>Market_Segment</th>\n",
              "      <th>APAC_Consumer</th>\n",
              "      <th>APAC_Corporate</th>\n",
              "      <th>APAC_Home Office</th>\n",
              "      <th>Africa_Consumer</th>\n",
              "      <th>Africa_Corporate</th>\n",
              "      <th>Africa_Home Office</th>\n",
              "      <th>Canada_Consumer</th>\n",
              "      <th>Canada_Corporate</th>\n",
              "      <th>Canada_Home Office</th>\n",
              "      <th>EMEA_Consumer</th>\n",
              "      <th>...</th>\n",
              "      <th>EMEA_Home Office</th>\n",
              "      <th>EU_Consumer</th>\n",
              "      <th>EU_Corporate</th>\n",
              "      <th>EU_Home Office</th>\n",
              "      <th>LATAM_Consumer</th>\n",
              "      <th>LATAM_Corporate</th>\n",
              "      <th>LATAM_Home Office</th>\n",
              "      <th>US_Consumer</th>\n",
              "      <th>US_Corporate</th>\n",
              "      <th>US_Home Office</th>\n",
              "    </tr>\n",
              "    <tr>\n",
              "      <th>Order Date</th>\n",
              "      <th></th>\n",
              "      <th></th>\n",
              "      <th></th>\n",
              "      <th></th>\n",
              "      <th></th>\n",
              "      <th></th>\n",
              "      <th></th>\n",
              "      <th></th>\n",
              "      <th></th>\n",
              "      <th></th>\n",
              "      <th></th>\n",
              "      <th></th>\n",
              "      <th></th>\n",
              "      <th></th>\n",
              "      <th></th>\n",
              "      <th></th>\n",
              "      <th></th>\n",
              "      <th></th>\n",
              "      <th></th>\n",
              "      <th></th>\n",
              "      <th></th>\n",
              "    </tr>\n",
              "  </thead>\n",
              "  <tbody>\n",
              "    <tr>\n",
              "      <th>2011-01</th>\n",
              "      <td>2254.4898</td>\n",
              "      <td>-173.7264</td>\n",
              "      <td>230.2656</td>\n",
              "      <td>265.539</td>\n",
              "      <td>520.026</td>\n",
              "      <td>391.515</td>\n",
              "      <td>447.33</td>\n",
              "      <td>12.57</td>\n",
              "      <td>NaN</td>\n",
              "      <td>-2952.594</td>\n",
              "      <td>...</td>\n",
              "      <td>392.526</td>\n",
              "      <td>2259.8670</td>\n",
              "      <td>841.3875</td>\n",
              "      <td>2534.568</td>\n",
              "      <td>540.44312</td>\n",
              "      <td>1021.05924</td>\n",
              "      <td>-26.59744</td>\n",
              "      <td>2465.8368</td>\n",
              "      <td>643.3689</td>\n",
              "      <td>1233.9329</td>\n",
              "    </tr>\n",
              "    <tr>\n",
              "      <th>2011-02</th>\n",
              "      <td>4627.8531</td>\n",
              "      <td>3600.7776</td>\n",
              "      <td>617.5407</td>\n",
              "      <td>-201.888</td>\n",
              "      <td>-31.689</td>\n",
              "      <td>825.606</td>\n",
              "      <td>26.43</td>\n",
              "      <td>9.24</td>\n",
              "      <td>87.99</td>\n",
              "      <td>464.160</td>\n",
              "      <td>...</td>\n",
              "      <td>368.070</td>\n",
              "      <td>-783.9945</td>\n",
              "      <td>2234.4060</td>\n",
              "      <td>162.255</td>\n",
              "      <td>1227.86616</td>\n",
              "      <td>814.03020</td>\n",
              "      <td>-356.80440</td>\n",
              "      <td>1853.5541</td>\n",
              "      <td>421.9256</td>\n",
              "      <td>553.9467</td>\n",
              "    </tr>\n",
              "    <tr>\n",
              "      <th>2011-03</th>\n",
              "      <td>2337.8319</td>\n",
              "      <td>3634.9365</td>\n",
              "      <td>205.1052</td>\n",
              "      <td>919.074</td>\n",
              "      <td>244.437</td>\n",
              "      <td>83.430</td>\n",
              "      <td>82.47</td>\n",
              "      <td>NaN</td>\n",
              "      <td>84.03</td>\n",
              "      <td>706.380</td>\n",
              "      <td>...</td>\n",
              "      <td>-15.570</td>\n",
              "      <td>1273.7100</td>\n",
              "      <td>2206.5960</td>\n",
              "      <td>269.745</td>\n",
              "      <td>2427.39612</td>\n",
              "      <td>178.66400</td>\n",
              "      <td>769.88400</td>\n",
              "      <td>204.2007</td>\n",
              "      <td>127.4696</td>\n",
              "      <td>-268.9314</td>\n",
              "    </tr>\n",
              "    <tr>\n",
              "      <th>2011-04</th>\n",
              "      <td>633.6423</td>\n",
              "      <td>90.7521</td>\n",
              "      <td>603.8478</td>\n",
              "      <td>381.315</td>\n",
              "      <td>941.751</td>\n",
              "      <td>417.618</td>\n",
              "      <td>55.08</td>\n",
              "      <td>6.51</td>\n",
              "      <td>NaN</td>\n",
              "      <td>121.353</td>\n",
              "      <td>...</td>\n",
              "      <td>-456.510</td>\n",
              "      <td>2980.0065</td>\n",
              "      <td>981.1470</td>\n",
              "      <td>130.371</td>\n",
              "      <td>1368.82948</td>\n",
              "      <td>872.64068</td>\n",
              "      <td>-554.22952</td>\n",
              "      <td>1434.8636</td>\n",
              "      <td>494.7315</td>\n",
              "      <td>2723.4358</td>\n",
              "    </tr>\n",
              "    <tr>\n",
              "      <th>2011-05</th>\n",
              "      <td>3838.9500</td>\n",
              "      <td>1028.4489</td>\n",
              "      <td>102.0315</td>\n",
              "      <td>-39.981</td>\n",
              "      <td>490.650</td>\n",
              "      <td>39.180</td>\n",
              "      <td>0.87</td>\n",
              "      <td>NaN</td>\n",
              "      <td>NaN</td>\n",
              "      <td>172.554</td>\n",
              "      <td>...</td>\n",
              "      <td>-33.591</td>\n",
              "      <td>673.0080</td>\n",
              "      <td>1719.0600</td>\n",
              "      <td>443.310</td>\n",
              "      <td>1749.39200</td>\n",
              "      <td>134.87252</td>\n",
              "      <td>-397.95600</td>\n",
              "      <td>833.9433</td>\n",
              "      <td>2912.7976</td>\n",
              "      <td>145.7781</td>\n",
              "    </tr>\n",
              "  </tbody>\n",
              "</table>\n",
              "<p>5 rows × 21 columns</p>\n",
              "</div>\n",
              "      <button class=\"colab-df-convert\" onclick=\"convertToInteractive('df-0dc417c5-1906-4419-a75c-9e64e616f932')\"\n",
              "              title=\"Convert this dataframe to an interactive table.\"\n",
              "              style=\"display:none;\">\n",
              "        \n",
              "  <svg xmlns=\"http://www.w3.org/2000/svg\" height=\"24px\"viewBox=\"0 0 24 24\"\n",
              "       width=\"24px\">\n",
              "    <path d=\"M0 0h24v24H0V0z\" fill=\"none\"/>\n",
              "    <path d=\"M18.56 5.44l.94 2.06.94-2.06 2.06-.94-2.06-.94-.94-2.06-.94 2.06-2.06.94zm-11 1L8.5 8.5l.94-2.06 2.06-.94-2.06-.94L8.5 2.5l-.94 2.06-2.06.94zm10 10l.94 2.06.94-2.06 2.06-.94-2.06-.94-.94-2.06-.94 2.06-2.06.94z\"/><path d=\"M17.41 7.96l-1.37-1.37c-.4-.4-.92-.59-1.43-.59-.52 0-1.04.2-1.43.59L10.3 9.45l-7.72 7.72c-.78.78-.78 2.05 0 2.83L4 21.41c.39.39.9.59 1.41.59.51 0 1.02-.2 1.41-.59l7.78-7.78 2.81-2.81c.8-.78.8-2.07 0-2.86zM5.41 20L4 18.59l7.72-7.72 1.47 1.35L5.41 20z\"/>\n",
              "  </svg>\n",
              "      </button>\n",
              "      \n",
              "  <style>\n",
              "    .colab-df-container {\n",
              "      display:flex;\n",
              "      flex-wrap:wrap;\n",
              "      gap: 12px;\n",
              "    }\n",
              "\n",
              "    .colab-df-convert {\n",
              "      background-color: #E8F0FE;\n",
              "      border: none;\n",
              "      border-radius: 50%;\n",
              "      cursor: pointer;\n",
              "      display: none;\n",
              "      fill: #1967D2;\n",
              "      height: 32px;\n",
              "      padding: 0 0 0 0;\n",
              "      width: 32px;\n",
              "    }\n",
              "\n",
              "    .colab-df-convert:hover {\n",
              "      background-color: #E2EBFA;\n",
              "      box-shadow: 0px 1px 2px rgba(60, 64, 67, 0.3), 0px 1px 3px 1px rgba(60, 64, 67, 0.15);\n",
              "      fill: #174EA6;\n",
              "    }\n",
              "\n",
              "    [theme=dark] .colab-df-convert {\n",
              "      background-color: #3B4455;\n",
              "      fill: #D2E3FC;\n",
              "    }\n",
              "\n",
              "    [theme=dark] .colab-df-convert:hover {\n",
              "      background-color: #434B5C;\n",
              "      box-shadow: 0px 1px 3px 1px rgba(0, 0, 0, 0.15);\n",
              "      filter: drop-shadow(0px 1px 2px rgba(0, 0, 0, 0.3));\n",
              "      fill: #FFFFFF;\n",
              "    }\n",
              "  </style>\n",
              "\n",
              "      <script>\n",
              "        const buttonEl =\n",
              "          document.querySelector('#df-0dc417c5-1906-4419-a75c-9e64e616f932 button.colab-df-convert');\n",
              "        buttonEl.style.display =\n",
              "          google.colab.kernel.accessAllowed ? 'block' : 'none';\n",
              "\n",
              "        async function convertToInteractive(key) {\n",
              "          const element = document.querySelector('#df-0dc417c5-1906-4419-a75c-9e64e616f932');\n",
              "          const dataTable =\n",
              "            await google.colab.kernel.invokeFunction('convertToInteractive',\n",
              "                                                     [key], {});\n",
              "          if (!dataTable) return;\n",
              "\n",
              "          const docLinkHtml = 'Like what you see? Visit the ' +\n",
              "            '<a target=\"_blank\" href=https://colab.research.google.com/notebooks/data_table.ipynb>data table notebook</a>'\n",
              "            + ' to learn more about interactive tables.';\n",
              "          element.innerHTML = '';\n",
              "          dataTable['output_type'] = 'display_data';\n",
              "          await google.colab.output.renderOutput(dataTable, element);\n",
              "          const docLink = document.createElement('div');\n",
              "          docLink.innerHTML = docLinkHtml;\n",
              "          element.appendChild(docLink);\n",
              "        }\n",
              "      </script>\n",
              "    </div>\n",
              "  </div>\n",
              "  "
            ]
          },
          "metadata": {},
          "execution_count": 19
        }
      ]
    },
    {
      "cell_type": "code",
      "source": [
        "data_profit.shape"
      ],
      "metadata": {
        "colab": {
          "base_uri": "https://localhost:8080/"
        },
        "id": "cZnYyfkcuW1v",
        "outputId": "7640d951-54ce-4b4e-e712-643325779902"
      },
      "execution_count": 21,
      "outputs": [
        {
          "output_type": "execute_result",
          "data": {
            "text/plain": [
              "(48, 21)"
            ]
          },
          "metadata": {},
          "execution_count": 21
        }
      ]
    },
    {
      "cell_type": "markdown",
      "source": [
        "### 48Months of data for 21 Market Segments "
      ],
      "metadata": {
        "id": "fST7At8XPhWb"
      }
    },
    {
      "cell_type": "code",
      "source": [
        "train_len = 42\n",
        "train = data_profit[0:train_len]\n",
        "\n",
        "test = data_profit[train_len:]"
      ],
      "metadata": {
        "id": "_FvoYvsXuW4H"
      },
      "execution_count": 22,
      "outputs": []
    },
    {
      "cell_type": "code",
      "source": [
        "train.shape"
      ],
      "metadata": {
        "colab": {
          "base_uri": "https://localhost:8080/"
        },
        "id": "X939ecVPuW6W",
        "outputId": "14a6ea20-57b0-4abc-d97d-6c19aee5dc93"
      },
      "execution_count": 23,
      "outputs": [
        {
          "output_type": "execute_result",
          "data": {
            "text/plain": [
              "(42, 21)"
            ]
          },
          "metadata": {},
          "execution_count": 23
        }
      ]
    },
    {
      "cell_type": "code",
      "source": [
        "train.head()"
      ],
      "metadata": {
        "colab": {
          "base_uri": "https://localhost:8080/",
          "height": 348
        },
        "id": "ZhkUQuLhuW9R",
        "outputId": "498a277e-c6bb-4497-ed03-408afc0e26f8"
      },
      "execution_count": 24,
      "outputs": [
        {
          "output_type": "execute_result",
          "data": {
            "text/plain": [
              "Market_Segment  APAC_Consumer  APAC_Corporate  APAC_Home Office  \\\n",
              "Order Date                                                        \n",
              "2011-01             2254.4898       -173.7264          230.2656   \n",
              "2011-02             4627.8531       3600.7776          617.5407   \n",
              "2011-03             2337.8319       3634.9365          205.1052   \n",
              "2011-04              633.6423         90.7521          603.8478   \n",
              "2011-05             3838.9500       1028.4489          102.0315   \n",
              "\n",
              "Market_Segment  Africa_Consumer  Africa_Corporate  Africa_Home Office  \\\n",
              "Order Date                                                              \n",
              "2011-01                 265.539           520.026             391.515   \n",
              "2011-02                -201.888           -31.689             825.606   \n",
              "2011-03                 919.074           244.437              83.430   \n",
              "2011-04                 381.315           941.751             417.618   \n",
              "2011-05                 -39.981           490.650              39.180   \n",
              "\n",
              "Market_Segment  Canada_Consumer  Canada_Corporate  Canada_Home Office  \\\n",
              "Order Date                                                              \n",
              "2011-01                  447.33             12.57                 NaN   \n",
              "2011-02                   26.43              9.24               87.99   \n",
              "2011-03                   82.47               NaN               84.03   \n",
              "2011-04                   55.08              6.51                 NaN   \n",
              "2011-05                    0.87               NaN                 NaN   \n",
              "\n",
              "Market_Segment  EMEA_Consumer  ...  EMEA_Home Office  EU_Consumer  \\\n",
              "Order Date                     ...                                  \n",
              "2011-01             -2952.594  ...           392.526    2259.8670   \n",
              "2011-02               464.160  ...           368.070    -783.9945   \n",
              "2011-03               706.380  ...           -15.570    1273.7100   \n",
              "2011-04               121.353  ...          -456.510    2980.0065   \n",
              "2011-05               172.554  ...           -33.591     673.0080   \n",
              "\n",
              "Market_Segment  EU_Corporate  EU_Home Office  LATAM_Consumer  LATAM_Corporate  \\\n",
              "Order Date                                                                      \n",
              "2011-01             841.3875        2534.568       540.44312       1021.05924   \n",
              "2011-02            2234.4060         162.255      1227.86616        814.03020   \n",
              "2011-03            2206.5960         269.745      2427.39612        178.66400   \n",
              "2011-04             981.1470         130.371      1368.82948        872.64068   \n",
              "2011-05            1719.0600         443.310      1749.39200        134.87252   \n",
              "\n",
              "Market_Segment  LATAM_Home Office  US_Consumer  US_Corporate  US_Home Office  \n",
              "Order Date                                                                    \n",
              "2011-01                 -26.59744    2465.8368      643.3689       1233.9329  \n",
              "2011-02                -356.80440    1853.5541      421.9256        553.9467  \n",
              "2011-03                 769.88400     204.2007      127.4696       -268.9314  \n",
              "2011-04                -554.22952    1434.8636      494.7315       2723.4358  \n",
              "2011-05                -397.95600     833.9433     2912.7976        145.7781  \n",
              "\n",
              "[5 rows x 21 columns]"
            ],
            "text/html": [
              "\n",
              "  <div id=\"df-e2f04067-f177-4e85-af1b-ae926de037e6\">\n",
              "    <div class=\"colab-df-container\">\n",
              "      <div>\n",
              "<style scoped>\n",
              "    .dataframe tbody tr th:only-of-type {\n",
              "        vertical-align: middle;\n",
              "    }\n",
              "\n",
              "    .dataframe tbody tr th {\n",
              "        vertical-align: top;\n",
              "    }\n",
              "\n",
              "    .dataframe thead th {\n",
              "        text-align: right;\n",
              "    }\n",
              "</style>\n",
              "<table border=\"1\" class=\"dataframe\">\n",
              "  <thead>\n",
              "    <tr style=\"text-align: right;\">\n",
              "      <th>Market_Segment</th>\n",
              "      <th>APAC_Consumer</th>\n",
              "      <th>APAC_Corporate</th>\n",
              "      <th>APAC_Home Office</th>\n",
              "      <th>Africa_Consumer</th>\n",
              "      <th>Africa_Corporate</th>\n",
              "      <th>Africa_Home Office</th>\n",
              "      <th>Canada_Consumer</th>\n",
              "      <th>Canada_Corporate</th>\n",
              "      <th>Canada_Home Office</th>\n",
              "      <th>EMEA_Consumer</th>\n",
              "      <th>...</th>\n",
              "      <th>EMEA_Home Office</th>\n",
              "      <th>EU_Consumer</th>\n",
              "      <th>EU_Corporate</th>\n",
              "      <th>EU_Home Office</th>\n",
              "      <th>LATAM_Consumer</th>\n",
              "      <th>LATAM_Corporate</th>\n",
              "      <th>LATAM_Home Office</th>\n",
              "      <th>US_Consumer</th>\n",
              "      <th>US_Corporate</th>\n",
              "      <th>US_Home Office</th>\n",
              "    </tr>\n",
              "    <tr>\n",
              "      <th>Order Date</th>\n",
              "      <th></th>\n",
              "      <th></th>\n",
              "      <th></th>\n",
              "      <th></th>\n",
              "      <th></th>\n",
              "      <th></th>\n",
              "      <th></th>\n",
              "      <th></th>\n",
              "      <th></th>\n",
              "      <th></th>\n",
              "      <th></th>\n",
              "      <th></th>\n",
              "      <th></th>\n",
              "      <th></th>\n",
              "      <th></th>\n",
              "      <th></th>\n",
              "      <th></th>\n",
              "      <th></th>\n",
              "      <th></th>\n",
              "      <th></th>\n",
              "      <th></th>\n",
              "    </tr>\n",
              "  </thead>\n",
              "  <tbody>\n",
              "    <tr>\n",
              "      <th>2011-01</th>\n",
              "      <td>2254.4898</td>\n",
              "      <td>-173.7264</td>\n",
              "      <td>230.2656</td>\n",
              "      <td>265.539</td>\n",
              "      <td>520.026</td>\n",
              "      <td>391.515</td>\n",
              "      <td>447.33</td>\n",
              "      <td>12.57</td>\n",
              "      <td>NaN</td>\n",
              "      <td>-2952.594</td>\n",
              "      <td>...</td>\n",
              "      <td>392.526</td>\n",
              "      <td>2259.8670</td>\n",
              "      <td>841.3875</td>\n",
              "      <td>2534.568</td>\n",
              "      <td>540.44312</td>\n",
              "      <td>1021.05924</td>\n",
              "      <td>-26.59744</td>\n",
              "      <td>2465.8368</td>\n",
              "      <td>643.3689</td>\n",
              "      <td>1233.9329</td>\n",
              "    </tr>\n",
              "    <tr>\n",
              "      <th>2011-02</th>\n",
              "      <td>4627.8531</td>\n",
              "      <td>3600.7776</td>\n",
              "      <td>617.5407</td>\n",
              "      <td>-201.888</td>\n",
              "      <td>-31.689</td>\n",
              "      <td>825.606</td>\n",
              "      <td>26.43</td>\n",
              "      <td>9.24</td>\n",
              "      <td>87.99</td>\n",
              "      <td>464.160</td>\n",
              "      <td>...</td>\n",
              "      <td>368.070</td>\n",
              "      <td>-783.9945</td>\n",
              "      <td>2234.4060</td>\n",
              "      <td>162.255</td>\n",
              "      <td>1227.86616</td>\n",
              "      <td>814.03020</td>\n",
              "      <td>-356.80440</td>\n",
              "      <td>1853.5541</td>\n",
              "      <td>421.9256</td>\n",
              "      <td>553.9467</td>\n",
              "    </tr>\n",
              "    <tr>\n",
              "      <th>2011-03</th>\n",
              "      <td>2337.8319</td>\n",
              "      <td>3634.9365</td>\n",
              "      <td>205.1052</td>\n",
              "      <td>919.074</td>\n",
              "      <td>244.437</td>\n",
              "      <td>83.430</td>\n",
              "      <td>82.47</td>\n",
              "      <td>NaN</td>\n",
              "      <td>84.03</td>\n",
              "      <td>706.380</td>\n",
              "      <td>...</td>\n",
              "      <td>-15.570</td>\n",
              "      <td>1273.7100</td>\n",
              "      <td>2206.5960</td>\n",
              "      <td>269.745</td>\n",
              "      <td>2427.39612</td>\n",
              "      <td>178.66400</td>\n",
              "      <td>769.88400</td>\n",
              "      <td>204.2007</td>\n",
              "      <td>127.4696</td>\n",
              "      <td>-268.9314</td>\n",
              "    </tr>\n",
              "    <tr>\n",
              "      <th>2011-04</th>\n",
              "      <td>633.6423</td>\n",
              "      <td>90.7521</td>\n",
              "      <td>603.8478</td>\n",
              "      <td>381.315</td>\n",
              "      <td>941.751</td>\n",
              "      <td>417.618</td>\n",
              "      <td>55.08</td>\n",
              "      <td>6.51</td>\n",
              "      <td>NaN</td>\n",
              "      <td>121.353</td>\n",
              "      <td>...</td>\n",
              "      <td>-456.510</td>\n",
              "      <td>2980.0065</td>\n",
              "      <td>981.1470</td>\n",
              "      <td>130.371</td>\n",
              "      <td>1368.82948</td>\n",
              "      <td>872.64068</td>\n",
              "      <td>-554.22952</td>\n",
              "      <td>1434.8636</td>\n",
              "      <td>494.7315</td>\n",
              "      <td>2723.4358</td>\n",
              "    </tr>\n",
              "    <tr>\n",
              "      <th>2011-05</th>\n",
              "      <td>3838.9500</td>\n",
              "      <td>1028.4489</td>\n",
              "      <td>102.0315</td>\n",
              "      <td>-39.981</td>\n",
              "      <td>490.650</td>\n",
              "      <td>39.180</td>\n",
              "      <td>0.87</td>\n",
              "      <td>NaN</td>\n",
              "      <td>NaN</td>\n",
              "      <td>172.554</td>\n",
              "      <td>...</td>\n",
              "      <td>-33.591</td>\n",
              "      <td>673.0080</td>\n",
              "      <td>1719.0600</td>\n",
              "      <td>443.310</td>\n",
              "      <td>1749.39200</td>\n",
              "      <td>134.87252</td>\n",
              "      <td>-397.95600</td>\n",
              "      <td>833.9433</td>\n",
              "      <td>2912.7976</td>\n",
              "      <td>145.7781</td>\n",
              "    </tr>\n",
              "  </tbody>\n",
              "</table>\n",
              "<p>5 rows × 21 columns</p>\n",
              "</div>\n",
              "      <button class=\"colab-df-convert\" onclick=\"convertToInteractive('df-e2f04067-f177-4e85-af1b-ae926de037e6')\"\n",
              "              title=\"Convert this dataframe to an interactive table.\"\n",
              "              style=\"display:none;\">\n",
              "        \n",
              "  <svg xmlns=\"http://www.w3.org/2000/svg\" height=\"24px\"viewBox=\"0 0 24 24\"\n",
              "       width=\"24px\">\n",
              "    <path d=\"M0 0h24v24H0V0z\" fill=\"none\"/>\n",
              "    <path d=\"M18.56 5.44l.94 2.06.94-2.06 2.06-.94-2.06-.94-.94-2.06-.94 2.06-2.06.94zm-11 1L8.5 8.5l.94-2.06 2.06-.94-2.06-.94L8.5 2.5l-.94 2.06-2.06.94zm10 10l.94 2.06.94-2.06 2.06-.94-2.06-.94-.94-2.06-.94 2.06-2.06.94z\"/><path d=\"M17.41 7.96l-1.37-1.37c-.4-.4-.92-.59-1.43-.59-.52 0-1.04.2-1.43.59L10.3 9.45l-7.72 7.72c-.78.78-.78 2.05 0 2.83L4 21.41c.39.39.9.59 1.41.59.51 0 1.02-.2 1.41-.59l7.78-7.78 2.81-2.81c.8-.78.8-2.07 0-2.86zM5.41 20L4 18.59l7.72-7.72 1.47 1.35L5.41 20z\"/>\n",
              "  </svg>\n",
              "      </button>\n",
              "      \n",
              "  <style>\n",
              "    .colab-df-container {\n",
              "      display:flex;\n",
              "      flex-wrap:wrap;\n",
              "      gap: 12px;\n",
              "    }\n",
              "\n",
              "    .colab-df-convert {\n",
              "      background-color: #E8F0FE;\n",
              "      border: none;\n",
              "      border-radius: 50%;\n",
              "      cursor: pointer;\n",
              "      display: none;\n",
              "      fill: #1967D2;\n",
              "      height: 32px;\n",
              "      padding: 0 0 0 0;\n",
              "      width: 32px;\n",
              "    }\n",
              "\n",
              "    .colab-df-convert:hover {\n",
              "      background-color: #E2EBFA;\n",
              "      box-shadow: 0px 1px 2px rgba(60, 64, 67, 0.3), 0px 1px 3px 1px rgba(60, 64, 67, 0.15);\n",
              "      fill: #174EA6;\n",
              "    }\n",
              "\n",
              "    [theme=dark] .colab-df-convert {\n",
              "      background-color: #3B4455;\n",
              "      fill: #D2E3FC;\n",
              "    }\n",
              "\n",
              "    [theme=dark] .colab-df-convert:hover {\n",
              "      background-color: #434B5C;\n",
              "      box-shadow: 0px 1px 3px 1px rgba(0, 0, 0, 0.15);\n",
              "      filter: drop-shadow(0px 1px 2px rgba(0, 0, 0, 0.3));\n",
              "      fill: #FFFFFF;\n",
              "    }\n",
              "  </style>\n",
              "\n",
              "      <script>\n",
              "        const buttonEl =\n",
              "          document.querySelector('#df-e2f04067-f177-4e85-af1b-ae926de037e6 button.colab-df-convert');\n",
              "        buttonEl.style.display =\n",
              "          google.colab.kernel.accessAllowed ? 'block' : 'none';\n",
              "\n",
              "        async function convertToInteractive(key) {\n",
              "          const element = document.querySelector('#df-e2f04067-f177-4e85-af1b-ae926de037e6');\n",
              "          const dataTable =\n",
              "            await google.colab.kernel.invokeFunction('convertToInteractive',\n",
              "                                                     [key], {});\n",
              "          if (!dataTable) return;\n",
              "\n",
              "          const docLinkHtml = 'Like what you see? Visit the ' +\n",
              "            '<a target=\"_blank\" href=https://colab.research.google.com/notebooks/data_table.ipynb>data table notebook</a>'\n",
              "            + ' to learn more about interactive tables.';\n",
              "          element.innerHTML = '';\n",
              "          dataTable['output_type'] = 'display_data';\n",
              "          await google.colab.output.renderOutput(dataTable, element);\n",
              "          const docLink = document.createElement('div');\n",
              "          docLink.innerHTML = docLinkHtml;\n",
              "          element.appendChild(docLink);\n",
              "        }\n",
              "      </script>\n",
              "    </div>\n",
              "  </div>\n",
              "  "
            ]
          },
          "metadata": {},
          "execution_count": 24
        }
      ]
    },
    {
      "cell_type": "markdown",
      "source": [
        "CoV on profit for each 21 Market Segments on train data "
      ],
      "metadata": {
        "id": "lJhh8ECVP7O_"
      }
    },
    {
      "cell_type": "code",
      "source": [
        "mean = np.mean(train)\n",
        "std = np.std(train)\n",
        "\n",
        "CoV_df = pd.DataFrame(mean)\n",
        "CoV_df['std'] = std \n",
        "CoV_df['CoV'] = std/mean\n",
        "CoV_df = CoV_df.reset_index()\n",
        "CoV_df.columns=['Market_Segment', 'Mean','Std','CoV']\n",
        "CoV_df.sort_values(by='CoV', ascending= True, inplace = True)\n",
        "CoV_df"
      ],
      "metadata": {
        "colab": {
          "base_uri": "https://localhost:8080/",
          "height": 708
        },
        "id": "NUtpcguGuW_p",
        "outputId": "c0be5f7b-4f1c-411b-d8a8-ffd491a7ec8d"
      },
      "execution_count": 25,
      "outputs": [
        {
          "output_type": "execute_result",
          "data": {
            "text/plain": [
              "        Market_Segment         Mean          Std       CoV\n",
              "0        APAC_Consumer  4400.894243  2300.457687  0.522725\n",
              "1       APAC_Corporate  2574.919807  1364.837734  0.530051\n",
              "12         EU_Consumer  3699.977143  2202.282289  0.595215\n",
              "15      LATAM_Consumer  2295.555697  1569.632686  0.683770\n",
              "13        EU_Corporate  2216.299429  1600.336696  0.722076\n",
              "16     LATAM_Corporate  1122.633016   990.360880  0.882177\n",
              "14      EU_Home Office  1224.456536  1148.627937  0.938072\n",
              "2     APAC_Home Office  1511.088314  1523.508658  1.008219\n",
              "18         US_Consumer  2686.740912  2715.031412  1.010530\n",
              "19        US_Corporate  1754.199083  1880.200775  1.071829\n",
              "20      US_Home Office  1132.065762  1272.476439  1.124030\n",
              "17   LATAM_Home Office   818.398941   957.275713  1.169693\n",
              "6      Canada_Consumer   225.987632   282.555788  1.250315\n",
              "3      Africa_Consumer   957.707000  1254.932072  1.310351\n",
              "7     Canada_Corporate    90.980294   162.493114  1.786025\n",
              "4     Africa_Corporate   412.617571   780.566850  1.891744\n",
              "5   Africa_Home Office   377.221071   759.322203  2.012937\n",
              "8   Canada_Home Office   118.003750   279.632866  2.369695\n",
              "9        EMEA_Consumer   423.960286  1124.552711  2.652495\n",
              "10      EMEA_Corporate   182.642643  1160.698430  6.355024\n",
              "11    EMEA_Home Office    84.231366   651.283095  7.732073"
            ],
            "text/html": [
              "\n",
              "  <div id=\"df-4012808e-8eae-4c6a-989d-9f226e657aae\">\n",
              "    <div class=\"colab-df-container\">\n",
              "      <div>\n",
              "<style scoped>\n",
              "    .dataframe tbody tr th:only-of-type {\n",
              "        vertical-align: middle;\n",
              "    }\n",
              "\n",
              "    .dataframe tbody tr th {\n",
              "        vertical-align: top;\n",
              "    }\n",
              "\n",
              "    .dataframe thead th {\n",
              "        text-align: right;\n",
              "    }\n",
              "</style>\n",
              "<table border=\"1\" class=\"dataframe\">\n",
              "  <thead>\n",
              "    <tr style=\"text-align: right;\">\n",
              "      <th></th>\n",
              "      <th>Market_Segment</th>\n",
              "      <th>Mean</th>\n",
              "      <th>Std</th>\n",
              "      <th>CoV</th>\n",
              "    </tr>\n",
              "  </thead>\n",
              "  <tbody>\n",
              "    <tr>\n",
              "      <th>0</th>\n",
              "      <td>APAC_Consumer</td>\n",
              "      <td>4400.894243</td>\n",
              "      <td>2300.457687</td>\n",
              "      <td>0.522725</td>\n",
              "    </tr>\n",
              "    <tr>\n",
              "      <th>1</th>\n",
              "      <td>APAC_Corporate</td>\n",
              "      <td>2574.919807</td>\n",
              "      <td>1364.837734</td>\n",
              "      <td>0.530051</td>\n",
              "    </tr>\n",
              "    <tr>\n",
              "      <th>12</th>\n",
              "      <td>EU_Consumer</td>\n",
              "      <td>3699.977143</td>\n",
              "      <td>2202.282289</td>\n",
              "      <td>0.595215</td>\n",
              "    </tr>\n",
              "    <tr>\n",
              "      <th>15</th>\n",
              "      <td>LATAM_Consumer</td>\n",
              "      <td>2295.555697</td>\n",
              "      <td>1569.632686</td>\n",
              "      <td>0.683770</td>\n",
              "    </tr>\n",
              "    <tr>\n",
              "      <th>13</th>\n",
              "      <td>EU_Corporate</td>\n",
              "      <td>2216.299429</td>\n",
              "      <td>1600.336696</td>\n",
              "      <td>0.722076</td>\n",
              "    </tr>\n",
              "    <tr>\n",
              "      <th>16</th>\n",
              "      <td>LATAM_Corporate</td>\n",
              "      <td>1122.633016</td>\n",
              "      <td>990.360880</td>\n",
              "      <td>0.882177</td>\n",
              "    </tr>\n",
              "    <tr>\n",
              "      <th>14</th>\n",
              "      <td>EU_Home Office</td>\n",
              "      <td>1224.456536</td>\n",
              "      <td>1148.627937</td>\n",
              "      <td>0.938072</td>\n",
              "    </tr>\n",
              "    <tr>\n",
              "      <th>2</th>\n",
              "      <td>APAC_Home Office</td>\n",
              "      <td>1511.088314</td>\n",
              "      <td>1523.508658</td>\n",
              "      <td>1.008219</td>\n",
              "    </tr>\n",
              "    <tr>\n",
              "      <th>18</th>\n",
              "      <td>US_Consumer</td>\n",
              "      <td>2686.740912</td>\n",
              "      <td>2715.031412</td>\n",
              "      <td>1.010530</td>\n",
              "    </tr>\n",
              "    <tr>\n",
              "      <th>19</th>\n",
              "      <td>US_Corporate</td>\n",
              "      <td>1754.199083</td>\n",
              "      <td>1880.200775</td>\n",
              "      <td>1.071829</td>\n",
              "    </tr>\n",
              "    <tr>\n",
              "      <th>20</th>\n",
              "      <td>US_Home Office</td>\n",
              "      <td>1132.065762</td>\n",
              "      <td>1272.476439</td>\n",
              "      <td>1.124030</td>\n",
              "    </tr>\n",
              "    <tr>\n",
              "      <th>17</th>\n",
              "      <td>LATAM_Home Office</td>\n",
              "      <td>818.398941</td>\n",
              "      <td>957.275713</td>\n",
              "      <td>1.169693</td>\n",
              "    </tr>\n",
              "    <tr>\n",
              "      <th>6</th>\n",
              "      <td>Canada_Consumer</td>\n",
              "      <td>225.987632</td>\n",
              "      <td>282.555788</td>\n",
              "      <td>1.250315</td>\n",
              "    </tr>\n",
              "    <tr>\n",
              "      <th>3</th>\n",
              "      <td>Africa_Consumer</td>\n",
              "      <td>957.707000</td>\n",
              "      <td>1254.932072</td>\n",
              "      <td>1.310351</td>\n",
              "    </tr>\n",
              "    <tr>\n",
              "      <th>7</th>\n",
              "      <td>Canada_Corporate</td>\n",
              "      <td>90.980294</td>\n",
              "      <td>162.493114</td>\n",
              "      <td>1.786025</td>\n",
              "    </tr>\n",
              "    <tr>\n",
              "      <th>4</th>\n",
              "      <td>Africa_Corporate</td>\n",
              "      <td>412.617571</td>\n",
              "      <td>780.566850</td>\n",
              "      <td>1.891744</td>\n",
              "    </tr>\n",
              "    <tr>\n",
              "      <th>5</th>\n",
              "      <td>Africa_Home Office</td>\n",
              "      <td>377.221071</td>\n",
              "      <td>759.322203</td>\n",
              "      <td>2.012937</td>\n",
              "    </tr>\n",
              "    <tr>\n",
              "      <th>8</th>\n",
              "      <td>Canada_Home Office</td>\n",
              "      <td>118.003750</td>\n",
              "      <td>279.632866</td>\n",
              "      <td>2.369695</td>\n",
              "    </tr>\n",
              "    <tr>\n",
              "      <th>9</th>\n",
              "      <td>EMEA_Consumer</td>\n",
              "      <td>423.960286</td>\n",
              "      <td>1124.552711</td>\n",
              "      <td>2.652495</td>\n",
              "    </tr>\n",
              "    <tr>\n",
              "      <th>10</th>\n",
              "      <td>EMEA_Corporate</td>\n",
              "      <td>182.642643</td>\n",
              "      <td>1160.698430</td>\n",
              "      <td>6.355024</td>\n",
              "    </tr>\n",
              "    <tr>\n",
              "      <th>11</th>\n",
              "      <td>EMEA_Home Office</td>\n",
              "      <td>84.231366</td>\n",
              "      <td>651.283095</td>\n",
              "      <td>7.732073</td>\n",
              "    </tr>\n",
              "  </tbody>\n",
              "</table>\n",
              "</div>\n",
              "      <button class=\"colab-df-convert\" onclick=\"convertToInteractive('df-4012808e-8eae-4c6a-989d-9f226e657aae')\"\n",
              "              title=\"Convert this dataframe to an interactive table.\"\n",
              "              style=\"display:none;\">\n",
              "        \n",
              "  <svg xmlns=\"http://www.w3.org/2000/svg\" height=\"24px\"viewBox=\"0 0 24 24\"\n",
              "       width=\"24px\">\n",
              "    <path d=\"M0 0h24v24H0V0z\" fill=\"none\"/>\n",
              "    <path d=\"M18.56 5.44l.94 2.06.94-2.06 2.06-.94-2.06-.94-.94-2.06-.94 2.06-2.06.94zm-11 1L8.5 8.5l.94-2.06 2.06-.94-2.06-.94L8.5 2.5l-.94 2.06-2.06.94zm10 10l.94 2.06.94-2.06 2.06-.94-2.06-.94-.94-2.06-.94 2.06-2.06.94z\"/><path d=\"M17.41 7.96l-1.37-1.37c-.4-.4-.92-.59-1.43-.59-.52 0-1.04.2-1.43.59L10.3 9.45l-7.72 7.72c-.78.78-.78 2.05 0 2.83L4 21.41c.39.39.9.59 1.41.59.51 0 1.02-.2 1.41-.59l7.78-7.78 2.81-2.81c.8-.78.8-2.07 0-2.86zM5.41 20L4 18.59l7.72-7.72 1.47 1.35L5.41 20z\"/>\n",
              "  </svg>\n",
              "      </button>\n",
              "      \n",
              "  <style>\n",
              "    .colab-df-container {\n",
              "      display:flex;\n",
              "      flex-wrap:wrap;\n",
              "      gap: 12px;\n",
              "    }\n",
              "\n",
              "    .colab-df-convert {\n",
              "      background-color: #E8F0FE;\n",
              "      border: none;\n",
              "      border-radius: 50%;\n",
              "      cursor: pointer;\n",
              "      display: none;\n",
              "      fill: #1967D2;\n",
              "      height: 32px;\n",
              "      padding: 0 0 0 0;\n",
              "      width: 32px;\n",
              "    }\n",
              "\n",
              "    .colab-df-convert:hover {\n",
              "      background-color: #E2EBFA;\n",
              "      box-shadow: 0px 1px 2px rgba(60, 64, 67, 0.3), 0px 1px 3px 1px rgba(60, 64, 67, 0.15);\n",
              "      fill: #174EA6;\n",
              "    }\n",
              "\n",
              "    [theme=dark] .colab-df-convert {\n",
              "      background-color: #3B4455;\n",
              "      fill: #D2E3FC;\n",
              "    }\n",
              "\n",
              "    [theme=dark] .colab-df-convert:hover {\n",
              "      background-color: #434B5C;\n",
              "      box-shadow: 0px 1px 3px 1px rgba(0, 0, 0, 0.15);\n",
              "      filter: drop-shadow(0px 1px 2px rgba(0, 0, 0, 0.3));\n",
              "      fill: #FFFFFF;\n",
              "    }\n",
              "  </style>\n",
              "\n",
              "      <script>\n",
              "        const buttonEl =\n",
              "          document.querySelector('#df-4012808e-8eae-4c6a-989d-9f226e657aae button.colab-df-convert');\n",
              "        buttonEl.style.display =\n",
              "          google.colab.kernel.accessAllowed ? 'block' : 'none';\n",
              "\n",
              "        async function convertToInteractive(key) {\n",
              "          const element = document.querySelector('#df-4012808e-8eae-4c6a-989d-9f226e657aae');\n",
              "          const dataTable =\n",
              "            await google.colab.kernel.invokeFunction('convertToInteractive',\n",
              "                                                     [key], {});\n",
              "          if (!dataTable) return;\n",
              "\n",
              "          const docLinkHtml = 'Like what you see? Visit the ' +\n",
              "            '<a target=\"_blank\" href=https://colab.research.google.com/notebooks/data_table.ipynb>data table notebook</a>'\n",
              "            + ' to learn more about interactive tables.';\n",
              "          element.innerHTML = '';\n",
              "          dataTable['output_type'] = 'display_data';\n",
              "          await google.colab.output.renderOutput(dataTable, element);\n",
              "          const docLink = document.createElement('div');\n",
              "          docLink.innerHTML = docLinkHtml;\n",
              "          element.appendChild(docLink);\n",
              "        }\n",
              "      </script>\n",
              "    </div>\n",
              "  </div>\n",
              "  "
            ]
          },
          "metadata": {},
          "execution_count": 25
        }
      ]
    },
    {
      "cell_type": "code",
      "source": [
        "Lowest_CoV_val = min(CoV_df['CoV'])\n",
        "\n",
        "Lowest_CoV_val"
      ],
      "metadata": {
        "colab": {
          "base_uri": "https://localhost:8080/"
        },
        "id": "EtmD3rx5uXCC",
        "outputId": "28d75730-7d59-43d0-a840-8e3b635e96ac"
      },
      "execution_count": 26,
      "outputs": [
        {
          "output_type": "execute_result",
          "data": {
            "text/plain": [
              "0.5227250555218103"
            ]
          },
          "metadata": {},
          "execution_count": 26
        }
      ]
    },
    {
      "cell_type": "code",
      "source": [
        "sns.barplot(x='Market_Segment', y='CoV', data=CoV_df, palette='magma')\n",
        "plt.xticks(rotation=90, fontweight='bold')\n",
        "plt.show()"
      ],
      "metadata": {
        "colab": {
          "base_uri": "https://localhost:8080/",
          "height": 387
        },
        "id": "6UBXym0juXEL",
        "outputId": "ed50d92c-97b1-461d-89e8-92352586413f"
      },
      "execution_count": 27,
      "outputs": [
        {
          "output_type": "display_data",
          "data": {
            "text/plain": [
              "<Figure size 432x288 with 1 Axes>"
            ],
            "image/png": "[encoded data removed]"
          },
          "metadata": {
            "needs_background": "light"
          }
        }
      ]
    },
    {
      "cell_type": "markdown",
      "source": [
        "### We can see that Lowest CoV is 0.52272\n",
        "### We can infer that the corresponding Marget Segment is \"APAC_Consumer\"  ######The most ###profitable Market Segment is APAC_Consumer \n",
        "\n",
        "\n",
        "\n",
        "\n",
        "\n",
        " Convert the Order-Date column from \"DateTime\" to \"timestamp\""
      ],
      "metadata": {
        "id": "O1LSrIRkRuXe"
      }
    },
    {
      "cell_type": "code",
      "source": [
        "data['Order Date'].dtype"
      ],
      "metadata": {
        "colab": {
          "base_uri": "https://localhost:8080/"
        },
        "id": "xm7mnpn1uXGR",
        "outputId": "6afd00cf-6743-44fb-927c-39e7689734c2"
      },
      "execution_count": 29,
      "outputs": [
        {
          "output_type": "execute_result",
          "data": {
            "text/plain": [
              "period[M]"
            ]
          },
          "metadata": {},
          "execution_count": 29
        }
      ]
    },
    {
      "cell_type": "code",
      "source": [
        "data['Order Date'] = data['Order Date'].astype(str)\n",
        "data['Order Date'] = pd.to_datetime(data['Order Date'])"
      ],
      "metadata": {
        "id": "1ncLt0xpuXIj"
      },
      "execution_count": 32,
      "outputs": []
    },
    {
      "cell_type": "code",
      "source": [
        "data['Order Date'].dtype"
      ],
      "metadata": {
        "colab": {
          "base_uri": "https://localhost:8080/"
        },
        "id": "X6ZtBj5HSHIv",
        "outputId": "82092b0d-096d-48bb-82c9-967484547eab"
      },
      "execution_count": 33,
      "outputs": [
        {
          "output_type": "execute_result",
          "data": {
            "text/plain": [
              "dtype('<M8[ns]')"
            ]
          },
          "metadata": {},
          "execution_count": 33
        }
      ]
    },
    {
      "cell_type": "markdown",
      "source": [
        "now we will get timestamp for each data "
      ],
      "metadata": {
        "id": "3HaG2z7pScNY"
      }
    },
    {
      "cell_type": "markdown",
      "source": [
        "filter data for best market seg - apac consumer"
      ],
      "metadata": {
        "id": "X5OAx_C7SilH"
      }
    },
    {
      "cell_type": "code",
      "source": [
        "#Drop the data for the rest 20 market segments and keep only the one for the market segment \n",
        "#that you found to be the most consistently profitable.\n",
        "\n",
        "\n",
        "data_df = data[(data.Market_Segment=='APAC_Consumer')]\n",
        "data_df.head()"
      ],
      "metadata": {
        "colab": {
          "base_uri": "https://localhost:8080/",
          "height": 206
        },
        "id": "XWfuHQseSHK7",
        "outputId": "6705a7c9-6208-4c44-caf4-ace127b5f607"
      },
      "execution_count": 34,
      "outputs": [
        {
          "output_type": "execute_result",
          "data": {
            "text/plain": [
              "      Order Date     Sales   Profit Market_Segment\n",
              "1080  2011-01-01  1429.050  371.490  APAC_Consumer\n",
              "9203  2011-01-01   219.780   59.340  APAC_Consumer\n",
              "19331 2011-01-01   342.510   54.600  APAC_Consumer\n",
              "26270 2011-01-01   102.762    1.842  APAC_Consumer\n",
              "14830 2011-01-01   420.420  147.000  APAC_Consumer"
            ],
            "text/html": [
              "\n",
              "  <div id=\"df-de84c027-17a8-49b5-9c81-27ab57e41707\">\n",
              "    <div class=\"colab-df-container\">\n",
              "      <div>\n",
              "<style scoped>\n",
              "    .dataframe tbody tr th:only-of-type {\n",
              "        vertical-align: middle;\n",
              "    }\n",
              "\n",
              "    .dataframe tbody tr th {\n",
              "        vertical-align: top;\n",
              "    }\n",
              "\n",
              "    .dataframe thead th {\n",
              "        text-align: right;\n",
              "    }\n",
              "</style>\n",
              "<table border=\"1\" class=\"dataframe\">\n",
              "  <thead>\n",
              "    <tr style=\"text-align: right;\">\n",
              "      <th></th>\n",
              "      <th>Order Date</th>\n",
              "      <th>Sales</th>\n",
              "      <th>Profit</th>\n",
              "      <th>Market_Segment</th>\n",
              "    </tr>\n",
              "  </thead>\n",
              "  <tbody>\n",
              "    <tr>\n",
              "      <th>1080</th>\n",
              "      <td>2011-01-01</td>\n",
              "      <td>1429.050</td>\n",
              "      <td>371.490</td>\n",
              "      <td>APAC_Consumer</td>\n",
              "    </tr>\n",
              "    <tr>\n",
              "      <th>9203</th>\n",
              "      <td>2011-01-01</td>\n",
              "      <td>219.780</td>\n",
              "      <td>59.340</td>\n",
              "      <td>APAC_Consumer</td>\n",
              "    </tr>\n",
              "    <tr>\n",
              "      <th>19331</th>\n",
              "      <td>2011-01-01</td>\n",
              "      <td>342.510</td>\n",
              "      <td>54.600</td>\n",
              "      <td>APAC_Consumer</td>\n",
              "    </tr>\n",
              "    <tr>\n",
              "      <th>26270</th>\n",
              "      <td>2011-01-01</td>\n",
              "      <td>102.762</td>\n",
              "      <td>1.842</td>\n",
              "      <td>APAC_Consumer</td>\n",
              "    </tr>\n",
              "    <tr>\n",
              "      <th>14830</th>\n",
              "      <td>2011-01-01</td>\n",
              "      <td>420.420</td>\n",
              "      <td>147.000</td>\n",
              "      <td>APAC_Consumer</td>\n",
              "    </tr>\n",
              "  </tbody>\n",
              "</table>\n",
              "</div>\n",
              "      <button class=\"colab-df-convert\" onclick=\"convertToInteractive('df-de84c027-17a8-49b5-9c81-27ab57e41707')\"\n",
              "              title=\"Convert this dataframe to an interactive table.\"\n",
              "              style=\"display:none;\">\n",
              "        \n",
              "  <svg xmlns=\"http://www.w3.org/2000/svg\" height=\"24px\"viewBox=\"0 0 24 24\"\n",
              "       width=\"24px\">\n",
              "    <path d=\"M0 0h24v24H0V0z\" fill=\"none\"/>\n",
              "    <path d=\"M18.56 5.44l.94 2.06.94-2.06 2.06-.94-2.06-.94-.94-2.06-.94 2.06-2.06.94zm-11 1L8.5 8.5l.94-2.06 2.06-.94-2.06-.94L8.5 2.5l-.94 2.06-2.06.94zm10 10l.94 2.06.94-2.06 2.06-.94-2.06-.94-.94-2.06-.94 2.06-2.06.94z\"/><path d=\"M17.41 7.96l-1.37-1.37c-.4-.4-.92-.59-1.43-.59-.52 0-1.04.2-1.43.59L10.3 9.45l-7.72 7.72c-.78.78-.78 2.05 0 2.83L4 21.41c.39.39.9.59 1.41.59.51 0 1.02-.2 1.41-.59l7.78-7.78 2.81-2.81c.8-.78.8-2.07 0-2.86zM5.41 20L4 18.59l7.72-7.72 1.47 1.35L5.41 20z\"/>\n",
              "  </svg>\n",
              "      </button>\n",
              "      \n",
              "  <style>\n",
              "    .colab-df-container {\n",
              "      display:flex;\n",
              "      flex-wrap:wrap;\n",
              "      gap: 12px;\n",
              "    }\n",
              "\n",
              "    .colab-df-convert {\n",
              "      background-color: #E8F0FE;\n",
              "      border: none;\n",
              "      border-radius: 50%;\n",
              "      cursor: pointer;\n",
              "      display: none;\n",
              "      fill: #1967D2;\n",
              "      height: 32px;\n",
              "      padding: 0 0 0 0;\n",
              "      width: 32px;\n",
              "    }\n",
              "\n",
              "    .colab-df-convert:hover {\n",
              "      background-color: #E2EBFA;\n",
              "      box-shadow: 0px 1px 2px rgba(60, 64, 67, 0.3), 0px 1px 3px 1px rgba(60, 64, 67, 0.15);\n",
              "      fill: #174EA6;\n",
              "    }\n",
              "\n",
              "    [theme=dark] .colab-df-convert {\n",
              "      background-color: #3B4455;\n",
              "      fill: #D2E3FC;\n",
              "    }\n",
              "\n",
              "    [theme=dark] .colab-df-convert:hover {\n",
              "      background-color: #434B5C;\n",
              "      box-shadow: 0px 1px 3px 1px rgba(0, 0, 0, 0.15);\n",
              "      filter: drop-shadow(0px 1px 2px rgba(0, 0, 0, 0.3));\n",
              "      fill: #FFFFFF;\n",
              "    }\n",
              "  </style>\n",
              "\n",
              "      <script>\n",
              "        const buttonEl =\n",
              "          document.querySelector('#df-de84c027-17a8-49b5-9c81-27ab57e41707 button.colab-df-convert');\n",
              "        buttonEl.style.display =\n",
              "          google.colab.kernel.accessAllowed ? 'block' : 'none';\n",
              "\n",
              "        async function convertToInteractive(key) {\n",
              "          const element = document.querySelector('#df-de84c027-17a8-49b5-9c81-27ab57e41707');\n",
              "          const dataTable =\n",
              "            await google.colab.kernel.invokeFunction('convertToInteractive',\n",
              "                                                     [key], {});\n",
              "          if (!dataTable) return;\n",
              "\n",
              "          const docLinkHtml = 'Like what you see? Visit the ' +\n",
              "            '<a target=\"_blank\" href=https://colab.research.google.com/notebooks/data_table.ipynb>data table notebook</a>'\n",
              "            + ' to learn more about interactive tables.';\n",
              "          element.innerHTML = '';\n",
              "          dataTable['output_type'] = 'display_data';\n",
              "          await google.colab.output.renderOutput(dataTable, element);\n",
              "          const docLink = document.createElement('div');\n",
              "          docLink.innerHTML = docLinkHtml;\n",
              "          element.appendChild(docLink);\n",
              "        }\n",
              "      </script>\n",
              "    </div>\n",
              "  </div>\n",
              "  "
            ]
          },
          "metadata": {},
          "execution_count": 34
        }
      ]
    },
    {
      "cell_type": "code",
      "source": [
        "data_df.shape"
      ],
      "metadata": {
        "colab": {
          "base_uri": "https://localhost:8080/"
        },
        "id": "_a5Gn1w0SHNT",
        "outputId": "b86facb4-4565-4ac5-bb61-cfe53d614eb6"
      },
      "execution_count": 35,
      "outputs": [
        {
          "output_type": "execute_result",
          "data": {
            "text/plain": [
              "(5699, 4)"
            ]
          },
          "metadata": {},
          "execution_count": 35
        }
      ]
    },
    {
      "cell_type": "code",
      "source": [
        "data = pd.DataFrame(data_df.groupby('Order Date')['Sales'].sum())\n",
        "data.head()"
      ],
      "metadata": {
        "colab": {
          "base_uri": "https://localhost:8080/",
          "height": 237
        },
        "id": "9nEFTe4HSHPl",
        "outputId": "abe84f84-873b-4259-df0a-dfa5094badcd"
      },
      "execution_count": 36,
      "outputs": [
        {
          "output_type": "execute_result",
          "data": {
            "text/plain": [
              "                 Sales\n",
              "Order Date            \n",
              "2011-01-01  18821.9898\n",
              "2011-02-01  23313.3531\n",
              "2011-03-01  26518.4919\n",
              "2011-04-01  12046.0923\n",
              "2011-05-01  25941.9000"
            ],
            "text/html": [
              "\n",
              "  <div id=\"df-597cca75-e4ca-4716-a3b2-97521f37b549\">\n",
              "    <div class=\"colab-df-container\">\n",
              "      <div>\n",
              "<style scoped>\n",
              "    .dataframe tbody tr th:only-of-type {\n",
              "        vertical-align: middle;\n",
              "    }\n",
              "\n",
              "    .dataframe tbody tr th {\n",
              "        vertical-align: top;\n",
              "    }\n",
              "\n",
              "    .dataframe thead th {\n",
              "        text-align: right;\n",
              "    }\n",
              "</style>\n",
              "<table border=\"1\" class=\"dataframe\">\n",
              "  <thead>\n",
              "    <tr style=\"text-align: right;\">\n",
              "      <th></th>\n",
              "      <th>Sales</th>\n",
              "    </tr>\n",
              "    <tr>\n",
              "      <th>Order Date</th>\n",
              "      <th></th>\n",
              "    </tr>\n",
              "  </thead>\n",
              "  <tbody>\n",
              "    <tr>\n",
              "      <th>2011-01-01</th>\n",
              "      <td>18821.9898</td>\n",
              "    </tr>\n",
              "    <tr>\n",
              "      <th>2011-02-01</th>\n",
              "      <td>23313.3531</td>\n",
              "    </tr>\n",
              "    <tr>\n",
              "      <th>2011-03-01</th>\n",
              "      <td>26518.4919</td>\n",
              "    </tr>\n",
              "    <tr>\n",
              "      <th>2011-04-01</th>\n",
              "      <td>12046.0923</td>\n",
              "    </tr>\n",
              "    <tr>\n",
              "      <th>2011-05-01</th>\n",
              "      <td>25941.9000</td>\n",
              "    </tr>\n",
              "  </tbody>\n",
              "</table>\n",
              "</div>\n",
              "      <button class=\"colab-df-convert\" onclick=\"convertToInteractive('df-597cca75-e4ca-4716-a3b2-97521f37b549')\"\n",
              "              title=\"Convert this dataframe to an interactive table.\"\n",
              "              style=\"display:none;\">\n",
              "        \n",
              "  <svg xmlns=\"http://www.w3.org/2000/svg\" height=\"24px\"viewBox=\"0 0 24 24\"\n",
              "       width=\"24px\">\n",
              "    <path d=\"M0 0h24v24H0V0z\" fill=\"none\"/>\n",
              "    <path d=\"M18.56 5.44l.94 2.06.94-2.06 2.06-.94-2.06-.94-.94-2.06-.94 2.06-2.06.94zm-11 1L8.5 8.5l.94-2.06 2.06-.94-2.06-.94L8.5 2.5l-.94 2.06-2.06.94zm10 10l.94 2.06.94-2.06 2.06-.94-2.06-.94-.94-2.06-.94 2.06-2.06.94z\"/><path d=\"M17.41 7.96l-1.37-1.37c-.4-.4-.92-.59-1.43-.59-.52 0-1.04.2-1.43.59L10.3 9.45l-7.72 7.72c-.78.78-.78 2.05 0 2.83L4 21.41c.39.39.9.59 1.41.59.51 0 1.02-.2 1.41-.59l7.78-7.78 2.81-2.81c.8-.78.8-2.07 0-2.86zM5.41 20L4 18.59l7.72-7.72 1.47 1.35L5.41 20z\"/>\n",
              "  </svg>\n",
              "      </button>\n",
              "      \n",
              "  <style>\n",
              "    .colab-df-container {\n",
              "      display:flex;\n",
              "      flex-wrap:wrap;\n",
              "      gap: 12px;\n",
              "    }\n",
              "\n",
              "    .colab-df-convert {\n",
              "      background-color: #E8F0FE;\n",
              "      border: none;\n",
              "      border-radius: 50%;\n",
              "      cursor: pointer;\n",
              "      display: none;\n",
              "      fill: #1967D2;\n",
              "      height: 32px;\n",
              "      padding: 0 0 0 0;\n",
              "      width: 32px;\n",
              "    }\n",
              "\n",
              "    .colab-df-convert:hover {\n",
              "      background-color: #E2EBFA;\n",
              "      box-shadow: 0px 1px 2px rgba(60, 64, 67, 0.3), 0px 1px 3px 1px rgba(60, 64, 67, 0.15);\n",
              "      fill: #174EA6;\n",
              "    }\n",
              "\n",
              "    [theme=dark] .colab-df-convert {\n",
              "      background-color: #3B4455;\n",
              "      fill: #D2E3FC;\n",
              "    }\n",
              "\n",
              "    [theme=dark] .colab-df-convert:hover {\n",
              "      background-color: #434B5C;\n",
              "      box-shadow: 0px 1px 3px 1px rgba(0, 0, 0, 0.15);\n",
              "      filter: drop-shadow(0px 1px 2px rgba(0, 0, 0, 0.3));\n",
              "      fill: #FFFFFF;\n",
              "    }\n",
              "  </style>\n",
              "\n",
              "      <script>\n",
              "        const buttonEl =\n",
              "          document.querySelector('#df-597cca75-e4ca-4716-a3b2-97521f37b549 button.colab-df-convert');\n",
              "        buttonEl.style.display =\n",
              "          google.colab.kernel.accessAllowed ? 'block' : 'none';\n",
              "\n",
              "        async function convertToInteractive(key) {\n",
              "          const element = document.querySelector('#df-597cca75-e4ca-4716-a3b2-97521f37b549');\n",
              "          const dataTable =\n",
              "            await google.colab.kernel.invokeFunction('convertToInteractive',\n",
              "                                                     [key], {});\n",
              "          if (!dataTable) return;\n",
              "\n",
              "          const docLinkHtml = 'Like what you see? Visit the ' +\n",
              "            '<a target=\"_blank\" href=https://colab.research.google.com/notebooks/data_table.ipynb>data table notebook</a>'\n",
              "            + ' to learn more about interactive tables.';\n",
              "          element.innerHTML = '';\n",
              "          dataTable['output_type'] = 'display_data';\n",
              "          await google.colab.output.renderOutput(dataTable, element);\n",
              "          const docLink = document.createElement('div');\n",
              "          docLink.innerHTML = docLinkHtml;\n",
              "          element.appendChild(docLink);\n",
              "        }\n",
              "      </script>\n",
              "    </div>\n",
              "  </div>\n",
              "  "
            ]
          },
          "metadata": {},
          "execution_count": 36
        }
      ]
    },
    {
      "cell_type": "code",
      "source": [
        "data.shape"
      ],
      "metadata": {
        "colab": {
          "base_uri": "https://localhost:8080/"
        },
        "id": "4Sqlv7XgSHR2",
        "outputId": "a143c800-bb98-44c2-8a39-f5d862e08aca"
      },
      "execution_count": 37,
      "outputs": [
        {
          "output_type": "execute_result",
          "data": {
            "text/plain": [
              "(48, 1)"
            ]
          },
          "metadata": {},
          "execution_count": 37
        }
      ]
    },
    {
      "cell_type": "code",
      "source": [
        "###Time series analysis"
      ],
      "metadata": {
        "id": "kle7k6SlTMyB"
      },
      "execution_count": null,
      "outputs": []
    },
    {
      "cell_type": "markdown",
      "source": [
        "###Time series analysis\n",
        "\n",
        "plotting time series analysis"
      ],
      "metadata": {
        "id": "7wAd_31iTO6Z"
      }
    },
    {
      "cell_type": "code",
      "source": [
        "data.plot(figsize=(12,5))\n",
        "plt.legend(loc='best')\n",
        "plt.title('Retail Giant Sales', fontweight='bold', size=10)\n",
        "plt.show(block=False)"
      ],
      "metadata": {
        "colab": {
          "base_uri": "https://localhost:8080/",
          "height": 359
        },
        "id": "njkvc8FESHUN",
        "outputId": "4839caf6-fa03-4e72-9961-c4ca8e975774"
      },
      "execution_count": 38,
      "outputs": [
        {
          "output_type": "display_data",
          "data": {
            "text/plain": [
              "<Figure size 864x360 with 1 Axes>"
            ],
            "image/png": "[encoded data removed]"
          },
          "metadata": {
            "needs_background": "light"
          }
        }
      ]
    },
    {
      "cell_type": "code",
      "source": [
        "data.isnull().sum()"
      ],
      "metadata": {
        "colab": {
          "base_uri": "https://localhost:8080/"
        },
        "id": "3pG276sBSHWe",
        "outputId": "70ddfc89-3cc7-4936-ec05-00decac1fad5"
      },
      "execution_count": 39,
      "outputs": [
        {
          "output_type": "execute_result",
          "data": {
            "text/plain": [
              "Sales    0\n",
              "dtype: int64"
            ]
          },
          "metadata": {},
          "execution_count": 39
        }
      ]
    },
    {
      "cell_type": "markdown",
      "source": [
        "###no missing values \n",
        "\n",
        "spliting time series analysis\n",
        "into train , test set "
      ],
      "metadata": {
        "id": "FM3sF2GXTrO_"
      }
    },
    {
      "cell_type": "code",
      "source": [
        "train_len = 42\n",
        "train = data[0:train_len]\n",
        "test = data[train_len:]"
      ],
      "metadata": {
        "id": "5-dVJ6-KTqBl"
      },
      "execution_count": 40,
      "outputs": []
    },
    {
      "cell_type": "markdown",
      "source": [
        "### 4.3. Time series Decomposition"
      ],
      "metadata": {
        "id": "R6n-ri2QUK1A"
      }
    },
    {
      "cell_type": "markdown",
      "source": [
        "\n",
        "\n",
        "Lets understand how a time series can be split into its various components that is the Trend, Seasonality, and residuals\n",
        "\n",
        "    ### Additive seasonal decomposition\n",
        "\n",
        "\n",
        "\n",
        "The individual components can be added to get the time-series data\n"
      ],
      "metadata": {
        "id": "d4hQFT2qUNzt"
      }
    },
    {
      "cell_type": "code",
      "source": [
        "from pylab import rcParams\n",
        "import statsmodels.api as sm\n",
        "rcParams['figure.figsize'] = 12,8\n",
        "decomposition = sm.tsa.seasonal_decompose(train.Sales ,model='additive') # additive seasonal index\n",
        "fig= decomposition.plot()\n",
        "plt.show()"
      ],
      "metadata": {
        "colab": {
          "base_uri": "https://localhost:8080/",
          "height": 605
        },
        "id": "bvE5Yt5uSHY2",
        "outputId": "5076ee60-586a-4df1-dbd9-b0ca5f8d82cd"
      },
      "execution_count": 43,
      "outputs": [
        {
          "output_type": "display_data",
          "data": {
            "text/plain": [
              "<Figure size 864x576 with 4 Axes>"
            ],
            "image/png": "[encoded data removed]"
          },
          "metadata": {
            "needs_background": "light"
          }
        }
      ]
    },
    {
      "cell_type": "markdown",
      "source": [
        "\n",
        "\n",
        "    ### Multiplicative seasonal decomposition\n",
        "\n",
        "The individual components can be multiplied to get the time-series data\n"
      ],
      "metadata": {
        "id": "iB-8p3v_U9Th"
      }
    },
    {
      "cell_type": "code",
      "source": [
        "decomposition = sm.tsa.seasonal_decompose(train.Sales, model='multiplicative')# multiplicative seasonal index\n",
        "fig = decomposition.plot()\n",
        "plt.show()"
      ],
      "metadata": {
        "colab": {
          "base_uri": "https://localhost:8080/",
          "height": 510
        },
        "id": "FZRKjrFbSHbU",
        "outputId": "6559b107-7689-4dd1-f932-8311c781802b"
      },
      "execution_count": 45,
      "outputs": [
        {
          "output_type": "display_data",
          "data": {
            "text/plain": [
              "<Figure size 864x576 with 4 Axes>"
            ],
            "image/png": "[encoded data removed]"
          },
          "metadata": {
            "needs_background": "light"
          }
        }
      ]
    },
    {
      "cell_type": "markdown",
      "source": [
        " Build and evaluate time series forecast\n",
        "\n",
        "\n",
        "\n",
        "\n",
        "Split time series data into training and test set\n",
        "\n",
        "\n",
        "\n",
        "\n",
        "\n",
        "Perform the train-test split for that market segment that takes the 42 months data as the train data and \n",
        "the 6 months data as the test data."
      ],
      "metadata": {
        "id": "gutkrxpdVVac"
      }
    },
    {
      "cell_type": "code",
      "source": [
        "train_len = 42\n",
        "train = data[0:train_len]\n",
        "test = data[train_len:]"
      ],
      "metadata": {
        "id": "54UvuKG4VVAt"
      },
      "execution_count": 47,
      "outputs": []
    },
    {
      "cell_type": "markdown",
      "source": [
        "5.1. Simple time series methods\n",
        "### Naive Method\n",
        "\n",
        "Forecast = Last month’s sales\n"
      ],
      "metadata": {
        "id": "GdKpMuLfVrXd"
      }
    },
    {
      "cell_type": "code",
      "source": [
        "y_hat_naive = test.copy()\n",
        "y_hat_naive['naive_forecast'] = train['Sales'][train_len-1]\n"
      ],
      "metadata": {
        "id": "C354ySpPVSnn"
      },
      "execution_count": 48,
      "outputs": []
    },
    {
      "cell_type": "code",
      "source": [
        "plt.figure(figsize=(12,5))\n",
        "plt.plot(train['Sales'], label = 'Train')\n",
        "plt.plot(test['Sales'], label = \"Test\")\n",
        "plt.plot(y_hat_naive['naive_forecast'], label='Naive_forecast')\n",
        "plt.legend(loc='best')\n",
        "plt.title('Naive Method', fontweight='bold')\n",
        "plt.show()"
      ],
      "metadata": {
        "colab": {
          "base_uri": "https://localhost:8080/",
          "height": 336
        },
        "id": "pQJF8_KLSHdo",
        "outputId": "542ac881-e978-4c62-ff7f-619dfea495d6"
      },
      "execution_count": 50,
      "outputs": [
        {
          "output_type": "display_data",
          "data": {
            "text/plain": [
              "<Figure size 864x360 with 1 Axes>"
            ],
            "image/png": "[encoded data removed]"
          },
          "metadata": {
            "needs_background": "light"
          }
        }
      ]
    },
    {
      "cell_type": "markdown",
      "source": [
        "#### As we can see in the plot,in order to forecast the sales from month 2014-07 to 2015-01 we we the last or previous month data which is 2014-06\n",
        "#### We can see that the forecast for the next six months is the same value(green line) as the last observation of the blue line "
      ],
      "metadata": {
        "id": "sMbNIR9EWllk"
      }
    },
    {
      "cell_type": "markdown",
      "source": [
        "\n",
        "Calculate RMSE and MAPE"
      ],
      "metadata": {
        "id": "WQuKMgiyWnS_"
      }
    },
    {
      "cell_type": "code",
      "source": [
        "rmse = np.sqrt(mean_squared_error(test['Sales'], y_hat_naive['naive_forecast'])).round(2)\n",
        "mape = np.round(np.mean(np.abs(test['Sales']-y_hat_naive['naive_forecast'])/test['Sales'])*100,2)\n",
        "results = pd.DataFrame({'Method':['Naive method'], 'MAPE':[mape],'RMSE':[rmse]})\n",
        "\n",
        "results = results [['Method', 'RMSE', 'MAPE']]\n",
        "results"
      ],
      "metadata": {
        "colab": {
          "base_uri": "https://localhost:8080/",
          "height": 80
        },
        "id": "yEuYPAdISHf-",
        "outputId": "49b558cd-fd2d-420d-cd83-64cc3c53d4cc"
      },
      "execution_count": 53,
      "outputs": [
        {
          "output_type": "execute_result",
          "data": {
            "text/plain": [
              "         Method      RMSE   MAPE\n",
              "0  Naive method  12355.97  17.47"
            ],
            "text/html": [
              "\n",
              "  <div id=\"df-7ec0d2d3-e718-4fc4-a5f2-ab4d47f8d594\">\n",
              "    <div class=\"colab-df-container\">\n",
              "      <div>\n",
              "<style scoped>\n",
              "    .dataframe tbody tr th:only-of-type {\n",
              "        vertical-align: middle;\n",
              "    }\n",
              "\n",
              "    .dataframe tbody tr th {\n",
              "        vertical-align: top;\n",
              "    }\n",
              "\n",
              "    .dataframe thead th {\n",
              "        text-align: right;\n",
              "    }\n",
              "</style>\n",
              "<table border=\"1\" class=\"dataframe\">\n",
              "  <thead>\n",
              "    <tr style=\"text-align: right;\">\n",
              "      <th></th>\n",
              "      <th>Method</th>\n",
              "      <th>RMSE</th>\n",
              "      <th>MAPE</th>\n",
              "    </tr>\n",
              "  </thead>\n",
              "  <tbody>\n",
              "    <tr>\n",
              "      <th>0</th>\n",
              "      <td>Naive method</td>\n",
              "      <td>12355.97</td>\n",
              "      <td>17.47</td>\n",
              "    </tr>\n",
              "  </tbody>\n",
              "</table>\n",
              "</div>\n",
              "      <button class=\"colab-df-convert\" onclick=\"convertToInteractive('df-7ec0d2d3-e718-4fc4-a5f2-ab4d47f8d594')\"\n",
              "              title=\"Convert this dataframe to an interactive table.\"\n",
              "              style=\"display:none;\">\n",
              "        \n",
              "  <svg xmlns=\"http://www.w3.org/2000/svg\" height=\"24px\"viewBox=\"0 0 24 24\"\n",
              "       width=\"24px\">\n",
              "    <path d=\"M0 0h24v24H0V0z\" fill=\"none\"/>\n",
              "    <path d=\"M18.56 5.44l.94 2.06.94-2.06 2.06-.94-2.06-.94-.94-2.06-.94 2.06-2.06.94zm-11 1L8.5 8.5l.94-2.06 2.06-.94-2.06-.94L8.5 2.5l-.94 2.06-2.06.94zm10 10l.94 2.06.94-2.06 2.06-.94-2.06-.94-.94-2.06-.94 2.06-2.06.94z\"/><path d=\"M17.41 7.96l-1.37-1.37c-.4-.4-.92-.59-1.43-.59-.52 0-1.04.2-1.43.59L10.3 9.45l-7.72 7.72c-.78.78-.78 2.05 0 2.83L4 21.41c.39.39.9.59 1.41.59.51 0 1.02-.2 1.41-.59l7.78-7.78 2.81-2.81c.8-.78.8-2.07 0-2.86zM5.41 20L4 18.59l7.72-7.72 1.47 1.35L5.41 20z\"/>\n",
              "  </svg>\n",
              "      </button>\n",
              "      \n",
              "  <style>\n",
              "    .colab-df-container {\n",
              "      display:flex;\n",
              "      flex-wrap:wrap;\n",
              "      gap: 12px;\n",
              "    }\n",
              "\n",
              "    .colab-df-convert {\n",
              "      background-color: #E8F0FE;\n",
              "      border: none;\n",
              "      border-radius: 50%;\n",
              "      cursor: pointer;\n",
              "      display: none;\n",
              "      fill: #1967D2;\n",
              "      height: 32px;\n",
              "      padding: 0 0 0 0;\n",
              "      width: 32px;\n",
              "    }\n",
              "\n",
              "    .colab-df-convert:hover {\n",
              "      background-color: #E2EBFA;\n",
              "      box-shadow: 0px 1px 2px rgba(60, 64, 67, 0.3), 0px 1px 3px 1px rgba(60, 64, 67, 0.15);\n",
              "      fill: #174EA6;\n",
              "    }\n",
              "\n",
              "    [theme=dark] .colab-df-convert {\n",
              "      background-color: #3B4455;\n",
              "      fill: #D2E3FC;\n",
              "    }\n",
              "\n",
              "    [theme=dark] .colab-df-convert:hover {\n",
              "      background-color: #434B5C;\n",
              "      box-shadow: 0px 1px 3px 1px rgba(0, 0, 0, 0.15);\n",
              "      filter: drop-shadow(0px 1px 2px rgba(0, 0, 0, 0.3));\n",
              "      fill: #FFFFFF;\n",
              "    }\n",
              "  </style>\n",
              "\n",
              "      <script>\n",
              "        const buttonEl =\n",
              "          document.querySelector('#df-7ec0d2d3-e718-4fc4-a5f2-ab4d47f8d594 button.colab-df-convert');\n",
              "        buttonEl.style.display =\n",
              "          google.colab.kernel.accessAllowed ? 'block' : 'none';\n",
              "\n",
              "        async function convertToInteractive(key) {\n",
              "          const element = document.querySelector('#df-7ec0d2d3-e718-4fc4-a5f2-ab4d47f8d594');\n",
              "          const dataTable =\n",
              "            await google.colab.kernel.invokeFunction('convertToInteractive',\n",
              "                                                     [key], {});\n",
              "          if (!dataTable) return;\n",
              "\n",
              "          const docLinkHtml = 'Like what you see? Visit the ' +\n",
              "            '<a target=\"_blank\" href=https://colab.research.google.com/notebooks/data_table.ipynb>data table notebook</a>'\n",
              "            + ' to learn more about interactive tables.';\n",
              "          element.innerHTML = '';\n",
              "          dataTable['output_type'] = 'display_data';\n",
              "          await google.colab.output.renderOutput(dataTable, element);\n",
              "          const docLink = document.createElement('div');\n",
              "          docLink.innerHTML = docLinkHtml;\n",
              "          element.appendChild(docLink);\n",
              "        }\n",
              "      </script>\n",
              "    </div>\n",
              "  </div>\n",
              "  "
            ]
          },
          "metadata": {},
          "execution_count": 53
        }
      ]
    },
    {
      "cell_type": "markdown",
      "source": [
        "### Simple average method"
      ],
      "metadata": {
        "id": "3xJI8DARXkua"
      }
    },
    {
      "cell_type": "code",
      "source": [
        "y_hat_avg = test.copy()\n",
        "y_hat_avg['avg_forecast'] = train['Sales'].mean()"
      ],
      "metadata": {
        "id": "_gNLOIVSXjhI"
      },
      "execution_count": 55,
      "outputs": []
    },
    {
      "cell_type": "code",
      "source": [
        "plt.figure(figsize=(12,5))\n",
        "plt.plot(train['Sales'], label='Train')\n",
        "plt.plot(test['Sales'], label = 'Test')\n",
        "plt.plot(y_hat_avg['avg_forecast'], label= \"Simple Average Forecast\")\n",
        "plt.legend(loc='best')\n",
        "plt.title('Simple Average Method', fontweight = 'bold')\n",
        "plt.show()"
      ],
      "metadata": {
        "colab": {
          "base_uri": "https://localhost:8080/",
          "height": 336
        },
        "id": "PhApOVG1SHiQ",
        "outputId": "66a6b251-3260-4fb1-dea8-db0f69364ade"
      },
      "execution_count": 56,
      "outputs": [
        {
          "output_type": "display_data",
          "data": {
            "text/plain": [
              "<Figure size 864x360 with 1 Axes>"
            ],
            "image/png": "[encoded data removed]"
          },
          "metadata": {
            "needs_background": "light"
          }
        }
      ]
    },
    {
      "cell_type": "markdown",
      "source": [
        "\n",
        "\n",
        "    #### Forecast of months from 2014-07 to 2015-01 = Average of all past months’ sales\n",
        "    #### Green line is the average of all the 42 months sales data\n",
        "    #### The green line we forecasted is not showing any trend or seasonality while our train and test data had both trend and seasonality "
      ],
      "metadata": {
        "id": "PnR-KpTzYW88"
      }
    },
    {
      "cell_type": "markdown",
      "source": [
        "Calculate RMSE and MAPE"
      ],
      "metadata": {
        "id": "98AaVMl1YY8P"
      }
    },
    {
      "cell_type": "code",
      "source": [
        "rmse = np.sqrt(mean_squared_error(test['Sales'], y_hat_avg['avg_forecast'])).round(2)\n",
        "\n",
        "mape = np.round(np.mean(np.abs(test['Sales']- y_hat_avg['avg_forecast'])/test['Sales'])*100,2)\n",
        "tempResults = pd.DataFrame({'Method':['Simple average method'], 'RMSE': [rmse],'MAPE': [mape] })\n",
        "results = pd.concat([results, tempResults])\n",
        "results = results[['Method', 'RMSE', 'MAPE']]\n",
        "results"
      ],
      "metadata": {
        "colab": {
          "base_uri": "https://localhost:8080/",
          "height": 112
        },
        "id": "txnUgxBiXhuH",
        "outputId": "f8044300-4c5f-4f90-9e2a-80985aa90bbf"
      },
      "execution_count": 57,
      "outputs": [
        {
          "output_type": "execute_result",
          "data": {
            "text/plain": [
              "                  Method      RMSE   MAPE\n",
              "0           Naive method  12355.97  17.47\n",
              "0  Simple average method  24146.06  34.34"
            ],
            "text/html": [
              "\n",
              "  <div id=\"df-381e29a2-003f-4431-8259-51e06f46bd58\">\n",
              "    <div class=\"colab-df-container\">\n",
              "      <div>\n",
              "<style scoped>\n",
              "    .dataframe tbody tr th:only-of-type {\n",
              "        vertical-align: middle;\n",
              "    }\n",
              "\n",
              "    .dataframe tbody tr th {\n",
              "        vertical-align: top;\n",
              "    }\n",
              "\n",
              "    .dataframe thead th {\n",
              "        text-align: right;\n",
              "    }\n",
              "</style>\n",
              "<table border=\"1\" class=\"dataframe\">\n",
              "  <thead>\n",
              "    <tr style=\"text-align: right;\">\n",
              "      <th></th>\n",
              "      <th>Method</th>\n",
              "      <th>RMSE</th>\n",
              "      <th>MAPE</th>\n",
              "    </tr>\n",
              "  </thead>\n",
              "  <tbody>\n",
              "    <tr>\n",
              "      <th>0</th>\n",
              "      <td>Naive method</td>\n",
              "      <td>12355.97</td>\n",
              "      <td>17.47</td>\n",
              "    </tr>\n",
              "    <tr>\n",
              "      <th>0</th>\n",
              "      <td>Simple average method</td>\n",
              "      <td>24146.06</td>\n",
              "      <td>34.34</td>\n",
              "    </tr>\n",
              "  </tbody>\n",
              "</table>\n",
              "</div>\n",
              "      <button class=\"colab-df-convert\" onclick=\"convertToInteractive('df-381e29a2-003f-4431-8259-51e06f46bd58')\"\n",
              "              title=\"Convert this dataframe to an interactive table.\"\n",
              "              style=\"display:none;\">\n",
              "        \n",
              "  <svg xmlns=\"http://www.w3.org/2000/svg\" height=\"24px\"viewBox=\"0 0 24 24\"\n",
              "       width=\"24px\">\n",
              "    <path d=\"M0 0h24v24H0V0z\" fill=\"none\"/>\n",
              "    <path d=\"M18.56 5.44l.94 2.06.94-2.06 2.06-.94-2.06-.94-.94-2.06-.94 2.06-2.06.94zm-11 1L8.5 8.5l.94-2.06 2.06-.94-2.06-.94L8.5 2.5l-.94 2.06-2.06.94zm10 10l.94 2.06.94-2.06 2.06-.94-2.06-.94-.94-2.06-.94 2.06-2.06.94z\"/><path d=\"M17.41 7.96l-1.37-1.37c-.4-.4-.92-.59-1.43-.59-.52 0-1.04.2-1.43.59L10.3 9.45l-7.72 7.72c-.78.78-.78 2.05 0 2.83L4 21.41c.39.39.9.59 1.41.59.51 0 1.02-.2 1.41-.59l7.78-7.78 2.81-2.81c.8-.78.8-2.07 0-2.86zM5.41 20L4 18.59l7.72-7.72 1.47 1.35L5.41 20z\"/>\n",
              "  </svg>\n",
              "      </button>\n",
              "      \n",
              "  <style>\n",
              "    .colab-df-container {\n",
              "      display:flex;\n",
              "      flex-wrap:wrap;\n",
              "      gap: 12px;\n",
              "    }\n",
              "\n",
              "    .colab-df-convert {\n",
              "      background-color: #E8F0FE;\n",
              "      border: none;\n",
              "      border-radius: 50%;\n",
              "      cursor: pointer;\n",
              "      display: none;\n",
              "      fill: #1967D2;\n",
              "      height: 32px;\n",
              "      padding: 0 0 0 0;\n",
              "      width: 32px;\n",
              "    }\n",
              "\n",
              "    .colab-df-convert:hover {\n",
              "      background-color: #E2EBFA;\n",
              "      box-shadow: 0px 1px 2px rgba(60, 64, 67, 0.3), 0px 1px 3px 1px rgba(60, 64, 67, 0.15);\n",
              "      fill: #174EA6;\n",
              "    }\n",
              "\n",
              "    [theme=dark] .colab-df-convert {\n",
              "      background-color: #3B4455;\n",
              "      fill: #D2E3FC;\n",
              "    }\n",
              "\n",
              "    [theme=dark] .colab-df-convert:hover {\n",
              "      background-color: #434B5C;\n",
              "      box-shadow: 0px 1px 3px 1px rgba(0, 0, 0, 0.15);\n",
              "      filter: drop-shadow(0px 1px 2px rgba(0, 0, 0, 0.3));\n",
              "      fill: #FFFFFF;\n",
              "    }\n",
              "  </style>\n",
              "\n",
              "      <script>\n",
              "        const buttonEl =\n",
              "          document.querySelector('#df-381e29a2-003f-4431-8259-51e06f46bd58 button.colab-df-convert');\n",
              "        buttonEl.style.display =\n",
              "          google.colab.kernel.accessAllowed ? 'block' : 'none';\n",
              "\n",
              "        async function convertToInteractive(key) {\n",
              "          const element = document.querySelector('#df-381e29a2-003f-4431-8259-51e06f46bd58');\n",
              "          const dataTable =\n",
              "            await google.colab.kernel.invokeFunction('convertToInteractive',\n",
              "                                                     [key], {});\n",
              "          if (!dataTable) return;\n",
              "\n",
              "          const docLinkHtml = 'Like what you see? Visit the ' +\n",
              "            '<a target=\"_blank\" href=https://colab.research.google.com/notebooks/data_table.ipynb>data table notebook</a>'\n",
              "            + ' to learn more about interactive tables.';\n",
              "          element.innerHTML = '';\n",
              "          dataTable['output_type'] = 'display_data';\n",
              "          await google.colab.output.renderOutput(dataTable, element);\n",
              "          const docLink = document.createElement('div');\n",
              "          docLink.innerHTML = docLinkHtml;\n",
              "          element.appendChild(docLink);\n",
              "        }\n",
              "      </script>\n",
              "    </div>\n",
              "  </div>\n",
              "  "
            ]
          },
          "metadata": {},
          "execution_count": 57
        }
      ]
    },
    {
      "cell_type": "code",
      "source": [],
      "metadata": {
        "id": "b6hejfH7Xhw6"
      },
      "execution_count": null,
      "outputs": []
    },
    {
      "cell_type": "code",
      "source": [],
      "metadata": {
        "id": "GZuXmQ97Xhze"
      },
      "execution_count": null,
      "outputs": []
    },
    {
      "cell_type": "code",
      "source": [],
      "metadata": {
        "id": "Ll5Wz91_Xh19"
      },
      "execution_count": null,
      "outputs": []
    },
    {
      "cell_type": "code",
      "source": [],
      "metadata": {
        "id": "tzJtAMU3Xh5Z"
      },
      "execution_count": null,
      "outputs": []
    },
    {
      "cell_type": "code",
      "source": [],
      "metadata": {
        "id": "4dQqn_hcSHlr"
      },
      "execution_count": null,
      "outputs": []
    },
    {
      "cell_type": "code",
      "source": [],
      "metadata": {
        "id": "57n-_P6yuXL8"
      },
      "execution_count": 15,
      "outputs": []
    }
  ]
}